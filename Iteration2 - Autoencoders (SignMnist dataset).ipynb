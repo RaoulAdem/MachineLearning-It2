{
 "cells": [
  {
   "cell_type": "code",
   "execution_count": 1,
   "id": "a972b87e",
   "metadata": {},
   "outputs": [
    {
     "name": "stdout",
     "output_type": "stream",
     "text": [
      "WARNING:tensorflow:From C:\\Users\\User\\anaconda3\\Lib\\site-packages\\keras\\src\\losses.py:2976: The name tf.losses.sparse_softmax_cross_entropy is deprecated. Please use tf.compat.v1.losses.sparse_softmax_cross_entropy instead.\n",
      "\n"
     ]
    }
   ],
   "source": [
    "from random import randint\n",
    "import pandas as pd\n",
    "import numpy as np\n",
    "import matplotlib.pyplot as plt\n",
    "import tensorflow as tf\n",
    "from tensorflow.keras import layers\n",
    "from tensorflow import keras"
   ]
  },
  {
   "cell_type": "code",
   "execution_count": 2,
   "id": "f7d9a1bf",
   "metadata": {},
   "outputs": [
    {
     "data": {
      "text/html": [
       "<div>\n",
       "<style scoped>\n",
       "    .dataframe tbody tr th:only-of-type {\n",
       "        vertical-align: middle;\n",
       "    }\n",
       "\n",
       "    .dataframe tbody tr th {\n",
       "        vertical-align: top;\n",
       "    }\n",
       "\n",
       "    .dataframe thead th {\n",
       "        text-align: right;\n",
       "    }\n",
       "</style>\n",
       "<table border=\"1\" class=\"dataframe\">\n",
       "  <thead>\n",
       "    <tr style=\"text-align: right;\">\n",
       "      <th></th>\n",
       "      <th>label</th>\n",
       "      <th>pixel1</th>\n",
       "      <th>pixel2</th>\n",
       "      <th>pixel3</th>\n",
       "      <th>pixel4</th>\n",
       "      <th>pixel5</th>\n",
       "      <th>pixel6</th>\n",
       "      <th>pixel7</th>\n",
       "      <th>pixel8</th>\n",
       "      <th>pixel9</th>\n",
       "      <th>...</th>\n",
       "      <th>pixel775</th>\n",
       "      <th>pixel776</th>\n",
       "      <th>pixel777</th>\n",
       "      <th>pixel778</th>\n",
       "      <th>pixel779</th>\n",
       "      <th>pixel780</th>\n",
       "      <th>pixel781</th>\n",
       "      <th>pixel782</th>\n",
       "      <th>pixel783</th>\n",
       "      <th>pixel784</th>\n",
       "    </tr>\n",
       "  </thead>\n",
       "  <tbody>\n",
       "    <tr>\n",
       "      <th>0</th>\n",
       "      <td>3</td>\n",
       "      <td>107</td>\n",
       "      <td>118</td>\n",
       "      <td>127</td>\n",
       "      <td>134</td>\n",
       "      <td>139</td>\n",
       "      <td>143</td>\n",
       "      <td>146</td>\n",
       "      <td>150</td>\n",
       "      <td>153</td>\n",
       "      <td>...</td>\n",
       "      <td>207</td>\n",
       "      <td>207</td>\n",
       "      <td>207</td>\n",
       "      <td>207</td>\n",
       "      <td>206</td>\n",
       "      <td>206</td>\n",
       "      <td>206</td>\n",
       "      <td>204</td>\n",
       "      <td>203</td>\n",
       "      <td>202</td>\n",
       "    </tr>\n",
       "    <tr>\n",
       "      <th>1</th>\n",
       "      <td>6</td>\n",
       "      <td>155</td>\n",
       "      <td>157</td>\n",
       "      <td>156</td>\n",
       "      <td>156</td>\n",
       "      <td>156</td>\n",
       "      <td>157</td>\n",
       "      <td>156</td>\n",
       "      <td>158</td>\n",
       "      <td>158</td>\n",
       "      <td>...</td>\n",
       "      <td>69</td>\n",
       "      <td>149</td>\n",
       "      <td>128</td>\n",
       "      <td>87</td>\n",
       "      <td>94</td>\n",
       "      <td>163</td>\n",
       "      <td>175</td>\n",
       "      <td>103</td>\n",
       "      <td>135</td>\n",
       "      <td>149</td>\n",
       "    </tr>\n",
       "    <tr>\n",
       "      <th>2</th>\n",
       "      <td>2</td>\n",
       "      <td>187</td>\n",
       "      <td>188</td>\n",
       "      <td>188</td>\n",
       "      <td>187</td>\n",
       "      <td>187</td>\n",
       "      <td>186</td>\n",
       "      <td>187</td>\n",
       "      <td>188</td>\n",
       "      <td>187</td>\n",
       "      <td>...</td>\n",
       "      <td>202</td>\n",
       "      <td>201</td>\n",
       "      <td>200</td>\n",
       "      <td>199</td>\n",
       "      <td>198</td>\n",
       "      <td>199</td>\n",
       "      <td>198</td>\n",
       "      <td>195</td>\n",
       "      <td>194</td>\n",
       "      <td>195</td>\n",
       "    </tr>\n",
       "    <tr>\n",
       "      <th>3</th>\n",
       "      <td>2</td>\n",
       "      <td>211</td>\n",
       "      <td>211</td>\n",
       "      <td>212</td>\n",
       "      <td>212</td>\n",
       "      <td>211</td>\n",
       "      <td>210</td>\n",
       "      <td>211</td>\n",
       "      <td>210</td>\n",
       "      <td>210</td>\n",
       "      <td>...</td>\n",
       "      <td>235</td>\n",
       "      <td>234</td>\n",
       "      <td>233</td>\n",
       "      <td>231</td>\n",
       "      <td>230</td>\n",
       "      <td>226</td>\n",
       "      <td>225</td>\n",
       "      <td>222</td>\n",
       "      <td>229</td>\n",
       "      <td>163</td>\n",
       "    </tr>\n",
       "    <tr>\n",
       "      <th>4</th>\n",
       "      <td>13</td>\n",
       "      <td>164</td>\n",
       "      <td>167</td>\n",
       "      <td>170</td>\n",
       "      <td>172</td>\n",
       "      <td>176</td>\n",
       "      <td>179</td>\n",
       "      <td>180</td>\n",
       "      <td>184</td>\n",
       "      <td>185</td>\n",
       "      <td>...</td>\n",
       "      <td>92</td>\n",
       "      <td>105</td>\n",
       "      <td>105</td>\n",
       "      <td>108</td>\n",
       "      <td>133</td>\n",
       "      <td>163</td>\n",
       "      <td>157</td>\n",
       "      <td>163</td>\n",
       "      <td>164</td>\n",
       "      <td>179</td>\n",
       "    </tr>\n",
       "  </tbody>\n",
       "</table>\n",
       "<p>5 rows × 785 columns</p>\n",
       "</div>"
      ],
      "text/plain": [
       "   label  pixel1  pixel2  pixel3  pixel4  pixel5  pixel6  pixel7  pixel8  \\\n",
       "0      3     107     118     127     134     139     143     146     150   \n",
       "1      6     155     157     156     156     156     157     156     158   \n",
       "2      2     187     188     188     187     187     186     187     188   \n",
       "3      2     211     211     212     212     211     210     211     210   \n",
       "4     13     164     167     170     172     176     179     180     184   \n",
       "\n",
       "   pixel9  ...  pixel775  pixel776  pixel777  pixel778  pixel779  pixel780  \\\n",
       "0     153  ...       207       207       207       207       206       206   \n",
       "1     158  ...        69       149       128        87        94       163   \n",
       "2     187  ...       202       201       200       199       198       199   \n",
       "3     210  ...       235       234       233       231       230       226   \n",
       "4     185  ...        92       105       105       108       133       163   \n",
       "\n",
       "   pixel781  pixel782  pixel783  pixel784  \n",
       "0       206       204       203       202  \n",
       "1       175       103       135       149  \n",
       "2       198       195       194       195  \n",
       "3       225       222       229       163  \n",
       "4       157       163       164       179  \n",
       "\n",
       "[5 rows x 785 columns]"
      ]
     },
     "execution_count": 2,
     "metadata": {},
     "output_type": "execute_result"
    }
   ],
   "source": [
    "sign_mnist_df = pd.read_csv('sign_mnist_train.csv')\n",
    "sign_mnist_df.head()"
   ]
  },
  {
   "cell_type": "code",
   "execution_count": 3,
   "id": "5a34a7ef",
   "metadata": {},
   "outputs": [
    {
     "data": {
      "text/plain": [
       "(27455, 785)"
      ]
     },
     "execution_count": 3,
     "metadata": {},
     "output_type": "execute_result"
    }
   ],
   "source": [
    "sign_mnist_df.shape"
   ]
  },
  {
   "cell_type": "code",
   "execution_count": 4,
   "id": "52251aa8",
   "metadata": {},
   "outputs": [
    {
     "data": {
      "text/plain": [
       "(8236, 785)"
      ]
     },
     "execution_count": 4,
     "metadata": {},
     "output_type": "execute_result"
    }
   ],
   "source": [
    "sign_mnist_df=sign_mnist_df.sample(frac=0.3).reset_index(drop=True)\n",
    "sign_mnist_df.shape"
   ]
  },
  {
   "cell_type": "code",
   "execution_count": 5,
   "id": "d1ca20c6",
   "metadata": {},
   "outputs": [],
   "source": [
    "features = sign_mnist_df.drop(['label'],axis=1)\n",
    "target = sign_mnist_df['label']"
   ]
  },
  {
   "cell_type": "code",
   "execution_count": 6,
   "id": "0f5d1588",
   "metadata": {},
   "outputs": [
    {
     "data": {
      "text/plain": [
       "(8236, 784)"
      ]
     },
     "execution_count": 6,
     "metadata": {},
     "output_type": "execute_result"
    }
   ],
   "source": [
    "features.shape"
   ]
  },
  {
   "cell_type": "code",
   "execution_count": 7,
   "id": "4c73f2ae",
   "metadata": {},
   "outputs": [
    {
     "data": {
      "text/plain": [
       "(8236,)"
      ]
     },
     "execution_count": 7,
     "metadata": {},
     "output_type": "execute_result"
    }
   ],
   "source": [
    "target.shape"
   ]
  },
  {
   "cell_type": "code",
   "execution_count": 8,
   "id": "f39583c9",
   "metadata": {},
   "outputs": [
    {
     "data": {
      "text/plain": [
       "(8236, 28, 28)"
      ]
     },
     "execution_count": 8,
     "metadata": {},
     "output_type": "execute_result"
    }
   ],
   "source": [
    "features = features.values.reshape(len(features), 28, 28)\n",
    "features.shape"
   ]
  },
  {
   "cell_type": "code",
   "execution_count": 9,
   "id": "848cc436",
   "metadata": {},
   "outputs": [],
   "source": [
    "from sklearn.model_selection import train_test_split\n",
    "features = features.astype(np.float32) / 255\n",
    "train_images, test_images, train_labels, test_labels = train_test_split(features,\n",
    "                                                                        target,\n",
    "                                                                        test_size=0.2)"
   ]
  },
  {
   "cell_type": "code",
   "execution_count": 10,
   "id": "8c8b9d61",
   "metadata": {},
   "outputs": [
    {
     "data": {
      "text/plain": [
       "(6588, 28, 28)"
      ]
     },
     "execution_count": 10,
     "metadata": {},
     "output_type": "execute_result"
    }
   ],
   "source": [
    "train_images.shape"
   ]
  },
  {
   "cell_type": "code",
   "execution_count": 11,
   "id": "8879d1c6",
   "metadata": {},
   "outputs": [
    {
     "data": {
      "text/plain": [
       "(1648, 28, 28)"
      ]
     },
     "execution_count": 11,
     "metadata": {},
     "output_type": "execute_result"
    }
   ],
   "source": [
    "test_images.shape"
   ]
  },
  {
   "cell_type": "markdown",
   "id": "e6386a93",
   "metadata": {},
   "source": [
    "## Building stacked encoder"
   ]
  },
  {
   "cell_type": "code",
   "execution_count": 12,
   "id": "6b5c7642",
   "metadata": {},
   "outputs": [
    {
     "name": "stdout",
     "output_type": "stream",
     "text": [
      "WARNING:tensorflow:From C:\\Users\\User\\anaconda3\\Lib\\site-packages\\keras\\src\\backend.py:873: The name tf.get_default_graph is deprecated. Please use tf.compat.v1.get_default_graph instead.\n",
      "\n"
     ]
    }
   ],
   "source": [
    "stacked_encoder = tf.keras.models.Sequential([\n",
    "    layers.Flatten(input_shape=[28, 28]),\n",
    "    layers.Dense(256, activation=\"relu\"),\n",
    "    layers.Dense(128, activation=\"relu\"),\n",
    "    layers.Dense(64, activation=\"relu\")\n",
    "])"
   ]
  },
  {
   "cell_type": "markdown",
   "id": "bc24cd86",
   "metadata": {},
   "source": [
    "## Building stacked decoder"
   ]
  },
  {
   "cell_type": "code",
   "execution_count": 13,
   "id": "e97e18c3",
   "metadata": {},
   "outputs": [],
   "source": [
    "stacked_decoder = tf.keras.models.Sequential([\n",
    "    layers.Dense(128, activation=\"relu\", input_shape=[64]),\n",
    "    layers.Dense(256, activation=\"relu\"),\n",
    "    layers.Dense(28 * 28, activation=\"relu\"),                               \n",
    "    layers.Reshape([28, 28])\n",
    "])"
   ]
  },
  {
   "cell_type": "markdown",
   "id": "d3364a48",
   "metadata": {},
   "source": [
    "## Building autoencoder (encoder & decoder)"
   ]
  },
  {
   "cell_type": "code",
   "execution_count": 14,
   "id": "968dfa3e",
   "metadata": {},
   "outputs": [],
   "source": [
    "ae_model = tf.keras.models.Sequential([stacked_encoder, stacked_decoder])"
   ]
  },
  {
   "cell_type": "code",
   "execution_count": 15,
   "id": "d4fbd627",
   "metadata": {},
   "outputs": [],
   "source": [
    "ae_model.compile(loss='mean_squared_error',\n",
    "                 optimizer=tf.keras.optimizers.RMSprop(), \n",
    "                 metrics=['mse'])"
   ]
  },
  {
   "cell_type": "markdown",
   "id": "9fb7094d",
   "metadata": {},
   "source": [
    "## Training autoencoder"
   ]
  },
  {
   "cell_type": "code",
   "execution_count": 16,
   "id": "a57843ff",
   "metadata": {},
   "outputs": [
    {
     "name": "stdout",
     "output_type": "stream",
     "text": [
      "Epoch 1/300\n",
      "WARNING:tensorflow:From C:\\Users\\User\\anaconda3\\Lib\\site-packages\\keras\\src\\utils\\tf_utils.py:492: The name tf.ragged.RaggedTensorValue is deprecated. Please use tf.compat.v1.ragged.RaggedTensorValue instead.\n",
      "\n",
      "WARNING:tensorflow:From C:\\Users\\User\\anaconda3\\Lib\\site-packages\\keras\\src\\engine\\base_layer_utils.py:384: The name tf.executing_eagerly_outside_functions is deprecated. Please use tf.compat.v1.executing_eagerly_outside_functions instead.\n",
      "\n",
      "206/206 [==============================] - 2s 7ms/step - loss: 0.1737 - mse: 0.1737\n",
      "Epoch 2/300\n",
      "206/206 [==============================] - 1s 7ms/step - loss: 0.1598 - mse: 0.1598\n",
      "Epoch 3/300\n",
      "206/206 [==============================] - 2s 7ms/step - loss: 0.1490 - mse: 0.1490\n",
      "Epoch 4/300\n",
      "206/206 [==============================] - 2s 8ms/step - loss: 0.1354 - mse: 0.1354\n",
      "Epoch 5/300\n",
      "206/206 [==============================] - 2s 8ms/step - loss: 0.1226 - mse: 0.1226\n",
      "Epoch 6/300\n",
      "206/206 [==============================] - 2s 8ms/step - loss: 0.1118 - mse: 0.1118\n",
      "Epoch 7/300\n",
      "206/206 [==============================] - 2s 7ms/step - loss: 0.1037 - mse: 0.1037\n",
      "Epoch 8/300\n",
      "206/206 [==============================] - 1s 7ms/step - loss: 0.0990 - mse: 0.0990\n",
      "Epoch 9/300\n",
      "206/206 [==============================] - 1s 7ms/step - loss: 0.0947 - mse: 0.0947\n",
      "Epoch 10/300\n",
      "206/206 [==============================] - 2s 8ms/step - loss: 0.0916 - mse: 0.0916\n",
      "Epoch 11/300\n",
      "206/206 [==============================] - 2s 8ms/step - loss: 0.0878 - mse: 0.0878\n",
      "Epoch 12/300\n",
      "206/206 [==============================] - 2s 8ms/step - loss: 0.0835 - mse: 0.0835\n",
      "Epoch 13/300\n",
      "206/206 [==============================] - 2s 8ms/step - loss: 0.0797 - mse: 0.0797\n",
      "Epoch 14/300\n",
      "206/206 [==============================] - 2s 8ms/step - loss: 0.0780 - mse: 0.0780\n",
      "Epoch 15/300\n",
      "206/206 [==============================] - 2s 8ms/step - loss: 0.0744 - mse: 0.0744\n",
      "Epoch 16/300\n",
      "206/206 [==============================] - 2s 8ms/step - loss: 0.0717 - mse: 0.0717\n",
      "Epoch 17/300\n",
      "206/206 [==============================] - 2s 9ms/step - loss: 0.0700 - mse: 0.0700\n",
      "Epoch 18/300\n",
      "206/206 [==============================] - 2s 8ms/step - loss: 0.0681 - mse: 0.0681\n",
      "Epoch 19/300\n",
      "206/206 [==============================] - 2s 8ms/step - loss: 0.0669 - mse: 0.0669\n",
      "Epoch 20/300\n",
      "206/206 [==============================] - 2s 8ms/step - loss: 0.0661 - mse: 0.0661\n",
      "Epoch 21/300\n",
      "206/206 [==============================] - 2s 8ms/step - loss: 0.0648 - mse: 0.0648\n",
      "Epoch 22/300\n",
      "206/206 [==============================] - 2s 8ms/step - loss: 0.0639 - mse: 0.0639\n",
      "Epoch 23/300\n",
      "206/206 [==============================] - 2s 8ms/step - loss: 0.0624 - mse: 0.0624\n",
      "Epoch 24/300\n",
      "206/206 [==============================] - 2s 8ms/step - loss: 0.0608 - mse: 0.0608\n",
      "Epoch 25/300\n",
      "206/206 [==============================] - 2s 8ms/step - loss: 0.0593 - mse: 0.0593\n",
      "Epoch 26/300\n",
      "206/206 [==============================] - 2s 8ms/step - loss: 0.0581 - mse: 0.0581\n",
      "Epoch 27/300\n",
      "206/206 [==============================] - 2s 8ms/step - loss: 0.0575 - mse: 0.0575\n",
      "Epoch 28/300\n",
      "206/206 [==============================] - 2s 9ms/step - loss: 0.0568 - mse: 0.0568\n",
      "Epoch 29/300\n",
      "206/206 [==============================] - 2s 7ms/step - loss: 0.0556 - mse: 0.0556\n",
      "Epoch 30/300\n",
      "206/206 [==============================] - 2s 8ms/step - loss: 0.0551 - mse: 0.0551\n",
      "Epoch 31/300\n",
      "206/206 [==============================] - 2s 8ms/step - loss: 0.0538 - mse: 0.0538\n",
      "Epoch 32/300\n",
      "206/206 [==============================] - 2s 9ms/step - loss: 0.0529 - mse: 0.0529\n",
      "Epoch 33/300\n",
      "206/206 [==============================] - 2s 8ms/step - loss: 0.0528 - mse: 0.0528\n",
      "Epoch 34/300\n",
      "206/206 [==============================] - 2s 8ms/step - loss: 0.0522 - mse: 0.0522\n",
      "Epoch 35/300\n",
      "206/206 [==============================] - 2s 9ms/step - loss: 0.0513 - mse: 0.0513\n",
      "Epoch 36/300\n",
      "206/206 [==============================] - 2s 9ms/step - loss: 0.0510 - mse: 0.0510\n",
      "Epoch 37/300\n",
      "206/206 [==============================] - 2s 9ms/step - loss: 0.0493 - mse: 0.0493\n",
      "Epoch 38/300\n",
      "206/206 [==============================] - 2s 8ms/step - loss: 0.0483 - mse: 0.0483\n",
      "Epoch 39/300\n",
      "206/206 [==============================] - 2s 8ms/step - loss: 0.0477 - mse: 0.0477\n",
      "Epoch 40/300\n",
      "206/206 [==============================] - 2s 9ms/step - loss: 0.0475 - mse: 0.0475\n",
      "Epoch 41/300\n",
      "206/206 [==============================] - 2s 7ms/step - loss: 0.0475 - mse: 0.0475\n",
      "Epoch 42/300\n",
      "206/206 [==============================] - 2s 9ms/step - loss: 0.0466 - mse: 0.0466\n",
      "Epoch 43/300\n",
      "206/206 [==============================] - 2s 7ms/step - loss: 0.0461 - mse: 0.0461\n",
      "Epoch 44/300\n",
      "206/206 [==============================] - 2s 8ms/step - loss: 0.0461 - mse: 0.0461\n",
      "Epoch 45/300\n",
      "206/206 [==============================] - 2s 8ms/step - loss: 0.0458 - mse: 0.0458\n",
      "Epoch 46/300\n",
      "206/206 [==============================] - 2s 8ms/step - loss: 0.0455 - mse: 0.0455\n",
      "Epoch 47/300\n",
      "206/206 [==============================] - 2s 9ms/step - loss: 0.0454 - mse: 0.0454\n",
      "Epoch 48/300\n",
      "206/206 [==============================] - 2s 8ms/step - loss: 0.0450 - mse: 0.0450\n",
      "Epoch 49/300\n",
      "206/206 [==============================] - 2s 9ms/step - loss: 0.0446 - mse: 0.0446\n",
      "Epoch 50/300\n",
      "206/206 [==============================] - 2s 9ms/step - loss: 0.0435 - mse: 0.0435\n",
      "Epoch 51/300\n",
      "206/206 [==============================] - 2s 7ms/step - loss: 0.0427 - mse: 0.0427\n",
      "Epoch 52/300\n",
      "206/206 [==============================] - 1s 7ms/step - loss: 0.0426 - mse: 0.0426\n",
      "Epoch 53/300\n",
      "206/206 [==============================] - 2s 8ms/step - loss: 0.0418 - mse: 0.0418\n",
      "Epoch 54/300\n",
      "206/206 [==============================] - 2s 7ms/step - loss: 0.0413 - mse: 0.0413\n",
      "Epoch 55/300\n",
      "206/206 [==============================] - 2s 7ms/step - loss: 0.0413 - mse: 0.0413\n",
      "Epoch 56/300\n",
      "206/206 [==============================] - 2s 8ms/step - loss: 0.0412 - mse: 0.0412\n",
      "Epoch 57/300\n",
      "206/206 [==============================] - 1s 7ms/step - loss: 0.0412 - mse: 0.0412\n",
      "Epoch 58/300\n",
      "206/206 [==============================] - 2s 9ms/step - loss: 0.0411 - mse: 0.0411\n",
      "Epoch 59/300\n",
      "206/206 [==============================] - 2s 8ms/step - loss: 0.0404 - mse: 0.0404\n",
      "Epoch 60/300\n",
      "206/206 [==============================] - 2s 8ms/step - loss: 0.0392 - mse: 0.0392\n",
      "Epoch 61/300\n",
      "206/206 [==============================] - 1s 7ms/step - loss: 0.0383 - mse: 0.0383\n",
      "Epoch 62/300\n",
      "206/206 [==============================] - 2s 8ms/step - loss: 0.0372 - mse: 0.0372\n",
      "Epoch 63/300\n",
      "206/206 [==============================] - 2s 8ms/step - loss: 0.0365 - mse: 0.0365\n",
      "Epoch 64/300\n",
      "206/206 [==============================] - 2s 9ms/step - loss: 0.0364 - mse: 0.0364\n",
      "Epoch 65/300\n",
      "206/206 [==============================] - 2s 9ms/step - loss: 0.0363 - mse: 0.0363\n",
      "Epoch 66/300\n",
      "206/206 [==============================] - 2s 8ms/step - loss: 0.0358 - mse: 0.0358\n",
      "Epoch 67/300\n",
      "206/206 [==============================] - 2s 8ms/step - loss: 0.0357 - mse: 0.0357\n",
      "Epoch 68/300\n",
      "206/206 [==============================] - 2s 9ms/step - loss: 0.0356 - mse: 0.0356\n",
      "Epoch 69/300\n",
      "206/206 [==============================] - 2s 8ms/step - loss: 0.0356 - mse: 0.0356\n",
      "Epoch 70/300\n",
      "206/206 [==============================] - 2s 9ms/step - loss: 0.0356 - mse: 0.0356\n",
      "Epoch 71/300\n",
      "206/206 [==============================] - 2s 8ms/step - loss: 0.0355 - mse: 0.0355\n",
      "Epoch 72/300\n",
      "206/206 [==============================] - 2s 8ms/step - loss: 0.0355 - mse: 0.0355\n",
      "Epoch 73/300\n",
      "206/206 [==============================] - 2s 8ms/step - loss: 0.0354 - mse: 0.0354\n",
      "Epoch 74/300\n",
      "206/206 [==============================] - 2s 7ms/step - loss: 0.0354 - mse: 0.0354\n",
      "Epoch 75/300\n",
      "206/206 [==============================] - 1s 7ms/step - loss: 0.0353 - mse: 0.0353\n",
      "Epoch 76/300\n",
      "206/206 [==============================] - 1s 7ms/step - loss: 0.0345 - mse: 0.0345\n",
      "Epoch 77/300\n",
      "206/206 [==============================] - 1s 7ms/step - loss: 0.0335 - mse: 0.0335\n",
      "Epoch 78/300\n",
      "206/206 [==============================] - 2s 7ms/step - loss: 0.0330 - mse: 0.0330\n",
      "Epoch 79/300\n",
      "206/206 [==============================] - 2s 8ms/step - loss: 0.0329 - mse: 0.0329\n",
      "Epoch 80/300\n"
     ]
    },
    {
     "name": "stdout",
     "output_type": "stream",
     "text": [
      "206/206 [==============================] - 2s 8ms/step - loss: 0.0329 - mse: 0.0329\n",
      "Epoch 81/300\n",
      "206/206 [==============================] - 1s 7ms/step - loss: 0.0329 - mse: 0.0329\n",
      "Epoch 82/300\n",
      "206/206 [==============================] - 2s 7ms/step - loss: 0.0325 - mse: 0.0325\n",
      "Epoch 83/300\n",
      "206/206 [==============================] - 1s 6ms/step - loss: 0.0323 - mse: 0.0323\n",
      "Epoch 84/300\n",
      "206/206 [==============================] - 1s 6ms/step - loss: 0.0319 - mse: 0.0319\n",
      "Epoch 85/300\n",
      "206/206 [==============================] - 1s 5ms/step - loss: 0.0312 - mse: 0.0312\n",
      "Epoch 86/300\n",
      "206/206 [==============================] - 1s 6ms/step - loss: 0.0312 - mse: 0.0312\n",
      "Epoch 87/300\n",
      "206/206 [==============================] - 1s 6ms/step - loss: 0.0311 - mse: 0.0311\n",
      "Epoch 88/300\n",
      "206/206 [==============================] - 1s 6ms/step - loss: 0.0311 - mse: 0.0311\n",
      "Epoch 89/300\n",
      "206/206 [==============================] - 1s 6ms/step - loss: 0.0310 - mse: 0.0310\n",
      "Epoch 90/300\n",
      "206/206 [==============================] - 1s 6ms/step - loss: 0.0303 - mse: 0.0303\n",
      "Epoch 91/300\n",
      "206/206 [==============================] - 1s 5ms/step - loss: 0.0297 - mse: 0.0297\n",
      "Epoch 92/300\n",
      "206/206 [==============================] - 1s 6ms/step - loss: 0.0296 - mse: 0.0296\n",
      "Epoch 93/300\n",
      "206/206 [==============================] - 1s 6ms/step - loss: 0.0296 - mse: 0.0296\n",
      "Epoch 94/300\n",
      "206/206 [==============================] - 1s 6ms/step - loss: 0.0291 - mse: 0.0291\n",
      "Epoch 95/300\n",
      "206/206 [==============================] - 1s 6ms/step - loss: 0.0289 - mse: 0.0289\n",
      "Epoch 96/300\n",
      "206/206 [==============================] - 1s 6ms/step - loss: 0.0288 - mse: 0.0288\n",
      "Epoch 97/300\n",
      "206/206 [==============================] - 1s 6ms/step - loss: 0.0286 - mse: 0.0286\n",
      "Epoch 98/300\n",
      "206/206 [==============================] - 1s 6ms/step - loss: 0.0283 - mse: 0.0283\n",
      "Epoch 99/300\n",
      "206/206 [==============================] - 1s 6ms/step - loss: 0.0282 - mse: 0.0282\n",
      "Epoch 100/300\n",
      "206/206 [==============================] - 1s 6ms/step - loss: 0.0282 - mse: 0.0282\n",
      "Epoch 101/300\n",
      "206/206 [==============================] - 1s 6ms/step - loss: 0.0282 - mse: 0.0282\n",
      "Epoch 102/300\n",
      "206/206 [==============================] - 1s 6ms/step - loss: 0.0281 - mse: 0.0281\n",
      "Epoch 103/300\n",
      "206/206 [==============================] - 1s 6ms/step - loss: 0.0281 - mse: 0.0281\n",
      "Epoch 104/300\n",
      "206/206 [==============================] - 1s 6ms/step - loss: 0.0281 - mse: 0.0281\n",
      "Epoch 105/300\n",
      "206/206 [==============================] - 1s 6ms/step - loss: 0.0281 - mse: 0.0281\n",
      "Epoch 106/300\n",
      "206/206 [==============================] - 1s 6ms/step - loss: 0.0277 - mse: 0.0277\n",
      "Epoch 107/300\n",
      "206/206 [==============================] - 1s 6ms/step - loss: 0.0274 - mse: 0.0274\n",
      "Epoch 108/300\n",
      "206/206 [==============================] - 1s 6ms/step - loss: 0.0274 - mse: 0.0274\n",
      "Epoch 109/300\n",
      "206/206 [==============================] - 1s 6ms/step - loss: 0.0274 - mse: 0.0274\n",
      "Epoch 110/300\n",
      "206/206 [==============================] - 1s 6ms/step - loss: 0.0273 - mse: 0.0273\n",
      "Epoch 111/300\n",
      "206/206 [==============================] - 1s 5ms/step - loss: 0.0273 - mse: 0.0273\n",
      "Epoch 112/300\n",
      "206/206 [==============================] - 1s 5ms/step - loss: 0.0273 - mse: 0.0273\n",
      "Epoch 113/300\n",
      "206/206 [==============================] - 1s 6ms/step - loss: 0.0273 - mse: 0.0273\n",
      "Epoch 114/300\n",
      "206/206 [==============================] - 1s 6ms/step - loss: 0.0272 - mse: 0.0272\n",
      "Epoch 115/300\n",
      "206/206 [==============================] - 1s 6ms/step - loss: 0.0272 - mse: 0.0272\n",
      "Epoch 116/300\n",
      "206/206 [==============================] - 1s 7ms/step - loss: 0.0272 - mse: 0.0272\n",
      "Epoch 117/300\n",
      "206/206 [==============================] - 1s 7ms/step - loss: 0.0270 - mse: 0.0270\n",
      "Epoch 118/300\n",
      "206/206 [==============================] - 1s 7ms/step - loss: 0.0268 - mse: 0.0268\n",
      "Epoch 119/300\n",
      "206/206 [==============================] - 1s 7ms/step - loss: 0.0264 - mse: 0.0264\n",
      "Epoch 120/300\n",
      "206/206 [==============================] - 1s 7ms/step - loss: 0.0257 - mse: 0.0257\n",
      "Epoch 121/300\n",
      "206/206 [==============================] - 2s 8ms/step - loss: 0.0256 - mse: 0.0256\n",
      "Epoch 122/300\n",
      "206/206 [==============================] - 2s 8ms/step - loss: 0.0256 - mse: 0.0256\n",
      "Epoch 123/300\n",
      "206/206 [==============================] - 2s 8ms/step - loss: 0.0256 - mse: 0.0256\n",
      "Epoch 124/300\n",
      "206/206 [==============================] - 2s 8ms/step - loss: 0.0256 - mse: 0.0256\n",
      "Epoch 125/300\n",
      "206/206 [==============================] - 2s 8ms/step - loss: 0.0256 - mse: 0.0256\n",
      "Epoch 126/300\n",
      "206/206 [==============================] - 1s 7ms/step - loss: 0.0255 - mse: 0.0255\n",
      "Epoch 127/300\n",
      "206/206 [==============================] - 2s 9ms/step - loss: 0.0255 - mse: 0.0255\n",
      "Epoch 128/300\n",
      "206/206 [==============================] - 2s 11ms/step - loss: 0.0251 - mse: 0.0251\n",
      "Epoch 129/300\n",
      "206/206 [==============================] - 3s 14ms/step - loss: 0.0249 - mse: 0.0249\n",
      "Epoch 130/300\n",
      "206/206 [==============================] - 4s 21ms/step - loss: 0.0249 - mse: 0.0249\n",
      "Epoch 131/300\n",
      "206/206 [==============================] - 4s 17ms/step - loss: 0.0249 - mse: 0.0249\n",
      "Epoch 132/300\n",
      "206/206 [==============================] - 5s 22ms/step - loss: 0.0248 - mse: 0.0248\n",
      "Epoch 133/300\n",
      "206/206 [==============================] - 3s 16ms/step - loss: 0.0249 - mse: 0.0249\n",
      "Epoch 134/300\n",
      "206/206 [==============================] - 2s 9ms/step - loss: 0.0248 - mse: 0.0248\n",
      "Epoch 135/300\n",
      "206/206 [==============================] - 3s 14ms/step - loss: 0.0248 - mse: 0.0248\n",
      "Epoch 136/300\n",
      "206/206 [==============================] - 3s 16ms/step - loss: 0.0245 - mse: 0.0245\n",
      "Epoch 137/300\n",
      "206/206 [==============================] - 4s 19ms/step - loss: 0.0241 - mse: 0.0241\n",
      "Epoch 138/300\n",
      "206/206 [==============================] - 5s 23ms/step - loss: 0.0241 - mse: 0.0241\n",
      "Epoch 139/300\n",
      "206/206 [==============================] - 4s 20ms/step - loss: 0.0237 - mse: 0.0237\n",
      "Epoch 140/300\n",
      "206/206 [==============================] - 3s 17ms/step - loss: 0.0236 - mse: 0.0236\n",
      "Epoch 141/300\n",
      "206/206 [==============================] - 4s 21ms/step - loss: 0.0235 - mse: 0.0235\n",
      "Epoch 142/300\n",
      "206/206 [==============================] - 4s 21ms/step - loss: 0.0232 - mse: 0.0232\n",
      "Epoch 143/300\n",
      "206/206 [==============================] - 3s 17ms/step - loss: 0.0228 - mse: 0.0228\n",
      "Epoch 144/300\n",
      "206/206 [==============================] - 3s 15ms/step - loss: 0.0227 - mse: 0.0227\n",
      "Epoch 145/300\n",
      "206/206 [==============================] - 1s 5ms/step - loss: 0.0227 - mse: 0.0227\n",
      "Epoch 146/300\n",
      "206/206 [==============================] - 1s 6ms/step - loss: 0.0227 - mse: 0.0227\n",
      "Epoch 147/300\n",
      "206/206 [==============================] - 1s 6ms/step - loss: 0.0226 - mse: 0.0226\n",
      "Epoch 148/300\n",
      "206/206 [==============================] - 1s 6ms/step - loss: 0.0227 - mse: 0.0227\n",
      "Epoch 149/300\n",
      "206/206 [==============================] - 1s 7ms/step - loss: 0.0224 - mse: 0.0224\n",
      "Epoch 150/300\n",
      "206/206 [==============================] - 1s 7ms/step - loss: 0.0220 - mse: 0.0220\n",
      "Epoch 151/300\n",
      "206/206 [==============================] - 2s 8ms/step - loss: 0.0220 - mse: 0.0220\n",
      "Epoch 152/300\n",
      "206/206 [==============================] - 1s 7ms/step - loss: 0.0219 - mse: 0.0219\n",
      "Epoch 153/300\n",
      "206/206 [==============================] - 1s 7ms/step - loss: 0.0219 - mse: 0.0219\n",
      "Epoch 154/300\n",
      "206/206 [==============================] - 1s 7ms/step - loss: 0.0219 - mse: 0.0219\n",
      "Epoch 155/300\n",
      "206/206 [==============================] - 1s 7ms/step - loss: 0.0219 - mse: 0.0219\n",
      "Epoch 156/300\n",
      "206/206 [==============================] - 2s 8ms/step - loss: 0.0219 - mse: 0.0219\n",
      "Epoch 157/300\n",
      "206/206 [==============================] - 2s 8ms/step - loss: 0.0219 - mse: 0.0219\n",
      "Epoch 158/300\n",
      "206/206 [==============================] - 2s 8ms/step - loss: 0.0219 - mse: 0.0219\n",
      "Epoch 159/300\n",
      "206/206 [==============================] - 2s 7ms/step - loss: 0.0219 - mse: 0.0219\n",
      "Epoch 160/300\n",
      "206/206 [==============================] - 2s 7ms/step - loss: 0.0218 - mse: 0.0218\n",
      "Epoch 161/300\n",
      "206/206 [==============================] - 1s 7ms/step - loss: 0.0218 - mse: 0.0218\n",
      "Epoch 162/300\n",
      "206/206 [==============================] - 1s 7ms/step - loss: 0.0218 - mse: 0.0218\n",
      "Epoch 163/300\n"
     ]
    },
    {
     "name": "stdout",
     "output_type": "stream",
     "text": [
      "206/206 [==============================] - 2s 8ms/step - loss: 0.0218 - mse: 0.0218\n",
      "Epoch 164/300\n",
      "206/206 [==============================] - 2s 7ms/step - loss: 0.0213 - mse: 0.0213\n",
      "Epoch 165/300\n",
      "206/206 [==============================] - 2s 8ms/step - loss: 0.0211 - mse: 0.0211\n",
      "Epoch 166/300\n",
      "206/206 [==============================] - 2s 8ms/step - loss: 0.0211 - mse: 0.0211\n",
      "Epoch 167/300\n",
      "206/206 [==============================] - 2s 8ms/step - loss: 0.0211 - mse: 0.0211\n",
      "Epoch 168/300\n",
      "206/206 [==============================] - 2s 8ms/step - loss: 0.0207 - mse: 0.0207\n",
      "Epoch 169/300\n",
      "206/206 [==============================] - 2s 7ms/step - loss: 0.0205 - mse: 0.0205\n",
      "Epoch 170/300\n",
      "206/206 [==============================] - 1s 7ms/step - loss: 0.0205 - mse: 0.0205\n",
      "Epoch 171/300\n",
      "206/206 [==============================] - 2s 8ms/step - loss: 0.0205 - mse: 0.0205\n",
      "Epoch 172/300\n",
      "206/206 [==============================] - 2s 8ms/step - loss: 0.0205 - mse: 0.0205\n",
      "Epoch 173/300\n",
      "206/206 [==============================] - 2s 8ms/step - loss: 0.0205 - mse: 0.0205\n",
      "Epoch 174/300\n",
      "206/206 [==============================] - 2s 8ms/step - loss: 0.0205 - mse: 0.0205\n",
      "Epoch 175/300\n",
      "206/206 [==============================] - 2s 8ms/step - loss: 0.0204 - mse: 0.0204\n",
      "Epoch 176/300\n",
      "206/206 [==============================] - 2s 8ms/step - loss: 0.0205 - mse: 0.0205\n",
      "Epoch 177/300\n",
      "206/206 [==============================] - 2s 8ms/step - loss: 0.0204 - mse: 0.0204\n",
      "Epoch 178/300\n",
      "206/206 [==============================] - 2s 9ms/step - loss: 0.0204 - mse: 0.0204\n",
      "Epoch 179/300\n",
      "206/206 [==============================] - 2s 8ms/step - loss: 0.0204 - mse: 0.0204\n",
      "Epoch 180/300\n",
      "206/206 [==============================] - 2s 8ms/step - loss: 0.0204 - mse: 0.0204\n",
      "Epoch 181/300\n",
      "206/206 [==============================] - 2s 8ms/step - loss: 0.0203 - mse: 0.0203\n",
      "Epoch 182/300\n",
      "206/206 [==============================] - 2s 8ms/step - loss: 0.0200 - mse: 0.0200\n",
      "Epoch 183/300\n",
      "206/206 [==============================] - 2s 7ms/step - loss: 0.0199 - mse: 0.0199\n",
      "Epoch 184/300\n",
      "206/206 [==============================] - 2s 7ms/step - loss: 0.0199 - mse: 0.0199\n",
      "Epoch 185/300\n",
      "206/206 [==============================] - 1s 7ms/step - loss: 0.0199 - mse: 0.0199\n",
      "Epoch 186/300\n",
      "206/206 [==============================] - 1s 7ms/step - loss: 0.0199 - mse: 0.0199\n",
      "Epoch 187/300\n",
      "206/206 [==============================] - 1s 7ms/step - loss: 0.0198 - mse: 0.0198\n",
      "Epoch 188/300\n",
      "206/206 [==============================] - 1s 6ms/step - loss: 0.0194 - mse: 0.0194\n",
      "Epoch 189/300\n",
      "206/206 [==============================] - 1s 7ms/step - loss: 0.0194 - mse: 0.0194\n",
      "Epoch 190/300\n",
      "206/206 [==============================] - 1s 7ms/step - loss: 0.0194 - mse: 0.0194\n",
      "Epoch 191/300\n",
      "206/206 [==============================] - 1s 6ms/step - loss: 0.0193 - mse: 0.0193\n",
      "Epoch 192/300\n",
      "206/206 [==============================] - 1s 7ms/step - loss: 0.0193 - mse: 0.0193\n",
      "Epoch 193/300\n",
      "206/206 [==============================] - 1s 7ms/step - loss: 0.0193 - mse: 0.0193\n",
      "Epoch 194/300\n",
      "206/206 [==============================] - 1s 7ms/step - loss: 0.0193 - mse: 0.0193\n",
      "Epoch 195/300\n",
      "206/206 [==============================] - 1s 7ms/step - loss: 0.0193 - mse: 0.0193\n",
      "Epoch 196/300\n",
      "206/206 [==============================] - 1s 6ms/step - loss: 0.0193 - mse: 0.0193\n",
      "Epoch 197/300\n",
      "206/206 [==============================] - 1s 7ms/step - loss: 0.0193 - mse: 0.0193\n",
      "Epoch 198/300\n",
      "206/206 [==============================] - 1s 7ms/step - loss: 0.0193 - mse: 0.0193\n",
      "Epoch 199/300\n",
      "206/206 [==============================] - 1s 7ms/step - loss: 0.0193 - mse: 0.0193\n",
      "Epoch 200/300\n",
      "206/206 [==============================] - 1s 7ms/step - loss: 0.0193 - mse: 0.0193\n",
      "Epoch 201/300\n",
      "206/206 [==============================] - 1s 7ms/step - loss: 0.0192 - mse: 0.0192\n",
      "Epoch 202/300\n",
      "206/206 [==============================] - 1s 7ms/step - loss: 0.0192 - mse: 0.0192\n",
      "Epoch 203/300\n",
      "206/206 [==============================] - 1s 7ms/step - loss: 0.0192 - mse: 0.0192\n",
      "Epoch 204/300\n",
      "206/206 [==============================] - 1s 7ms/step - loss: 0.0192 - mse: 0.0192\n",
      "Epoch 205/300\n",
      "206/206 [==============================] - 1s 7ms/step - loss: 0.0192 - mse: 0.0192\n",
      "Epoch 206/300\n",
      "206/206 [==============================] - 1s 7ms/step - loss: 0.0191 - mse: 0.0191\n",
      "Epoch 207/300\n",
      "206/206 [==============================] - 2s 7ms/step - loss: 0.0186 - mse: 0.0186\n",
      "Epoch 208/300\n",
      "206/206 [==============================] - 2s 8ms/step - loss: 0.0186 - mse: 0.0186\n",
      "Epoch 209/300\n",
      "206/206 [==============================] - 2s 8ms/step - loss: 0.0186 - mse: 0.0186\n",
      "Epoch 210/300\n",
      "206/206 [==============================] - 1s 7ms/step - loss: 0.0186 - mse: 0.0186\n",
      "Epoch 211/300\n",
      "206/206 [==============================] - 2s 7ms/step - loss: 0.0186 - mse: 0.0186\n",
      "Epoch 212/300\n",
      "206/206 [==============================] - 2s 8ms/step - loss: 0.0186 - mse: 0.0186\n",
      "Epoch 213/300\n",
      "206/206 [==============================] - 1s 7ms/step - loss: 0.0186 - mse: 0.0186\n",
      "Epoch 214/300\n",
      "206/206 [==============================] - 1s 6ms/step - loss: 0.0185 - mse: 0.0185\n",
      "Epoch 215/300\n",
      "206/206 [==============================] - 1s 7ms/step - loss: 0.0183 - mse: 0.0183\n",
      "Epoch 216/300\n",
      "206/206 [==============================] - 1s 6ms/step - loss: 0.0181 - mse: 0.0181\n",
      "Epoch 217/300\n",
      "206/206 [==============================] - 1s 6ms/step - loss: 0.0181 - mse: 0.0181\n",
      "Epoch 218/300\n",
      "206/206 [==============================] - 1s 7ms/step - loss: 0.0181 - mse: 0.0181\n",
      "Epoch 219/300\n",
      "206/206 [==============================] - 1s 7ms/step - loss: 0.0181 - mse: 0.0181\n",
      "Epoch 220/300\n",
      "206/206 [==============================] - 1s 7ms/step - loss: 0.0181 - mse: 0.0181\n",
      "Epoch 221/300\n",
      "206/206 [==============================] - 2s 8ms/step - loss: 0.0180 - mse: 0.0180\n",
      "Epoch 222/300\n",
      "206/206 [==============================] - 1s 7ms/step - loss: 0.0180 - mse: 0.0180\n",
      "Epoch 223/300\n",
      "206/206 [==============================] - 1s 7ms/step - loss: 0.0180 - mse: 0.0180\n",
      "Epoch 224/300\n",
      "206/206 [==============================] - 1s 7ms/step - loss: 0.0180 - mse: 0.0180\n",
      "Epoch 225/300\n",
      "206/206 [==============================] - 1s 6ms/step - loss: 0.0180 - mse: 0.0180\n",
      "Epoch 226/300\n",
      "206/206 [==============================] - 1s 7ms/step - loss: 0.0180 - mse: 0.0180\n",
      "Epoch 227/300\n",
      "206/206 [==============================] - 1s 7ms/step - loss: 0.0180 - mse: 0.0180\n",
      "Epoch 228/300\n",
      "206/206 [==============================] - 1s 7ms/step - loss: 0.0180 - mse: 0.0180\n",
      "Epoch 229/300\n",
      "206/206 [==============================] - 1s 7ms/step - loss: 0.0180 - mse: 0.0180\n",
      "Epoch 230/300\n",
      "206/206 [==============================] - 2s 7ms/step - loss: 0.0180 - mse: 0.0180\n",
      "Epoch 231/300\n",
      "206/206 [==============================] - 1s 6ms/step - loss: 0.0180 - mse: 0.0180\n",
      "Epoch 232/300\n",
      "206/206 [==============================] - 1s 6ms/step - loss: 0.0180 - mse: 0.0180\n",
      "Epoch 233/300\n",
      "206/206 [==============================] - 1s 6ms/step - loss: 0.0179 - mse: 0.0179\n",
      "Epoch 234/300\n",
      "206/206 [==============================] - 1s 7ms/step - loss: 0.0175 - mse: 0.0175\n",
      "Epoch 235/300\n",
      "206/206 [==============================] - 2s 7ms/step - loss: 0.0173 - mse: 0.0173\n",
      "Epoch 236/300\n",
      "206/206 [==============================] - 1s 7ms/step - loss: 0.0173 - mse: 0.0173\n",
      "Epoch 237/300\n",
      "206/206 [==============================] - 1s 7ms/step - loss: 0.0173 - mse: 0.0173\n",
      "Epoch 238/300\n",
      "206/206 [==============================] - 1s 7ms/step - loss: 0.0173 - mse: 0.0173\n",
      "Epoch 239/300\n",
      "206/206 [==============================] - 2s 7ms/step - loss: 0.0173 - mse: 0.0173\n",
      "Epoch 240/300\n",
      "206/206 [==============================] - 1s 7ms/step - loss: 0.0173 - mse: 0.0173\n",
      "Epoch 241/300\n",
      "206/206 [==============================] - 1s 7ms/step - loss: 0.0173 - mse: 0.0173\n",
      "Epoch 242/300\n",
      "206/206 [==============================] - 1s 7ms/step - loss: 0.0173 - mse: 0.0173\n",
      "Epoch 243/300\n",
      "206/206 [==============================] - 1s 7ms/step - loss: 0.0173 - mse: 0.0173\n",
      "Epoch 244/300\n",
      "206/206 [==============================] - 1s 7ms/step - loss: 0.0172 - mse: 0.0172\n",
      "Epoch 245/300\n",
      "206/206 [==============================] - 2s 8ms/step - loss: 0.0172 - mse: 0.0172\n",
      "Epoch 246/300\n"
     ]
    },
    {
     "name": "stdout",
     "output_type": "stream",
     "text": [
      "206/206 [==============================] - 2s 8ms/step - loss: 0.0172 - mse: 0.0172\n",
      "Epoch 247/300\n",
      "206/206 [==============================] - 2s 7ms/step - loss: 0.0172 - mse: 0.0172\n",
      "Epoch 248/300\n",
      "206/206 [==============================] - 1s 7ms/step - loss: 0.0172 - mse: 0.0172\n",
      "Epoch 249/300\n",
      "206/206 [==============================] - 1s 7ms/step - loss: 0.0172 - mse: 0.0172\n",
      "Epoch 250/300\n",
      "206/206 [==============================] - 2s 7ms/step - loss: 0.0172 - mse: 0.0172\n",
      "Epoch 251/300\n",
      "206/206 [==============================] - 1s 7ms/step - loss: 0.0172 - mse: 0.0172\n",
      "Epoch 252/300\n",
      "206/206 [==============================] - 1s 7ms/step - loss: 0.0172 - mse: 0.0172\n",
      "Epoch 253/300\n",
      "206/206 [==============================] - 1s 7ms/step - loss: 0.0172 - mse: 0.0172\n",
      "Epoch 254/300\n",
      "206/206 [==============================] - 2s 7ms/step - loss: 0.0172 - mse: 0.0172\n",
      "Epoch 255/300\n",
      "206/206 [==============================] - 1s 7ms/step - loss: 0.0172 - mse: 0.0172\n",
      "Epoch 256/300\n",
      "206/206 [==============================] - 1s 7ms/step - loss: 0.0171 - mse: 0.0171\n",
      "Epoch 257/300\n",
      "206/206 [==============================] - 2s 7ms/step - loss: 0.0171 - mse: 0.0171\n",
      "Epoch 258/300\n",
      "206/206 [==============================] - 2s 8ms/step - loss: 0.0171 - mse: 0.0171\n",
      "Epoch 259/300\n",
      "206/206 [==============================] - 1s 7ms/step - loss: 0.0171 - mse: 0.0171\n",
      "Epoch 260/300\n",
      "206/206 [==============================] - 1s 6ms/step - loss: 0.0171 - mse: 0.0171\n",
      "Epoch 261/300\n",
      "206/206 [==============================] - 1s 7ms/step - loss: 0.0165 - mse: 0.0165\n",
      "Epoch 262/300\n",
      "206/206 [==============================] - 1s 6ms/step - loss: 0.0164 - mse: 0.0164\n",
      "Epoch 263/300\n",
      "206/206 [==============================] - 1s 7ms/step - loss: 0.0165 - mse: 0.0165\n",
      "Epoch 264/300\n",
      "206/206 [==============================] - 2s 8ms/step - loss: 0.0164 - mse: 0.0164\n",
      "Epoch 265/300\n",
      "206/206 [==============================] - 1s 7ms/step - loss: 0.0164 - mse: 0.0164\n",
      "Epoch 266/300\n",
      "206/206 [==============================] - 2s 7ms/step - loss: 0.0164 - mse: 0.0164\n",
      "Epoch 267/300\n",
      "206/206 [==============================] - 1s 7ms/step - loss: 0.0164 - mse: 0.0164\n",
      "Epoch 268/300\n",
      "206/206 [==============================] - 1s 7ms/step - loss: 0.0164 - mse: 0.0164\n",
      "Epoch 269/300\n",
      "206/206 [==============================] - 1s 7ms/step - loss: 0.0164 - mse: 0.0164\n",
      "Epoch 270/300\n",
      "206/206 [==============================] - 1s 7ms/step - loss: 0.0164 - mse: 0.0164\n",
      "Epoch 271/300\n",
      "206/206 [==============================] - 1s 7ms/step - loss: 0.0164 - mse: 0.0164\n",
      "Epoch 272/300\n",
      "206/206 [==============================] - 1s 7ms/step - loss: 0.0164 - mse: 0.0164\n",
      "Epoch 273/300\n",
      "206/206 [==============================] - 1s 7ms/step - loss: 0.0164 - mse: 0.0164\n",
      "Epoch 274/300\n",
      "206/206 [==============================] - 1s 7ms/step - loss: 0.0164 - mse: 0.0164\n",
      "Epoch 275/300\n",
      "206/206 [==============================] - 2s 7ms/step - loss: 0.0164 - mse: 0.0164\n",
      "Epoch 276/300\n",
      "206/206 [==============================] - 2s 9ms/step - loss: 0.0163 - mse: 0.0163\n",
      "Epoch 277/300\n",
      "206/206 [==============================] - 2s 8ms/step - loss: 0.0163 - mse: 0.0163\n",
      "Epoch 278/300\n",
      "206/206 [==============================] - 2s 8ms/step - loss: 0.0163 - mse: 0.0163\n",
      "Epoch 279/300\n",
      "206/206 [==============================] - 2s 9ms/step - loss: 0.0163 - mse: 0.0163\n",
      "Epoch 280/300\n",
      "206/206 [==============================] - 2s 9ms/step - loss: 0.0163 - mse: 0.0163\n",
      "Epoch 281/300\n",
      "206/206 [==============================] - 2s 8ms/step - loss: 0.0163 - mse: 0.0163\n",
      "Epoch 282/300\n",
      "206/206 [==============================] - 2s 7ms/step - loss: 0.0163 - mse: 0.0163\n",
      "Epoch 283/300\n",
      "206/206 [==============================] - 2s 8ms/step - loss: 0.0163 - mse: 0.0163\n",
      "Epoch 284/300\n",
      "206/206 [==============================] - 2s 9ms/step - loss: 0.0163 - mse: 0.0163\n",
      "Epoch 285/300\n",
      "206/206 [==============================] - 1s 7ms/step - loss: 0.0163 - mse: 0.0163\n",
      "Epoch 286/300\n",
      "206/206 [==============================] - 1s 7ms/step - loss: 0.0163 - mse: 0.0163\n",
      "Epoch 287/300\n",
      "206/206 [==============================] - 1s 6ms/step - loss: 0.0163 - mse: 0.0163\n",
      "Epoch 288/300\n",
      "206/206 [==============================] - 1s 6ms/step - loss: 0.0163 - mse: 0.0163\n",
      "Epoch 289/300\n",
      "206/206 [==============================] - 1s 6ms/step - loss: 0.0163 - mse: 0.0163\n",
      "Epoch 290/300\n",
      "206/206 [==============================] - 1s 6ms/step - loss: 0.0162 - mse: 0.0162\n",
      "Epoch 291/300\n",
      "206/206 [==============================] - 1s 6ms/step - loss: 0.0162 - mse: 0.0162\n",
      "Epoch 292/300\n",
      "206/206 [==============================] - 1s 7ms/step - loss: 0.0162 - mse: 0.0162\n",
      "Epoch 293/300\n",
      "206/206 [==============================] - 1s 7ms/step - loss: 0.0162 - mse: 0.0162\n",
      "Epoch 294/300\n",
      "206/206 [==============================] - 1s 7ms/step - loss: 0.0162 - mse: 0.0162\n",
      "Epoch 295/300\n",
      "206/206 [==============================] - 1s 7ms/step - loss: 0.0162 - mse: 0.0162\n",
      "Epoch 296/300\n",
      "206/206 [==============================] - 2s 8ms/step - loss: 0.0162 - mse: 0.0162\n",
      "Epoch 297/300\n",
      "206/206 [==============================] - 1s 7ms/step - loss: 0.0162 - mse: 0.0162\n",
      "Epoch 298/300\n",
      "206/206 [==============================] - 1s 7ms/step - loss: 0.0162 - mse: 0.0162\n",
      "Epoch 299/300\n",
      "206/206 [==============================] - 1s 7ms/step - loss: 0.0162 - mse: 0.0162\n",
      "Epoch 300/300\n",
      "206/206 [==============================] - 1s 7ms/step - loss: 0.0162 - mse: 0.0162\n"
     ]
    }
   ],
   "source": [
    "training_hist = ae_model.fit(train_images, \n",
    "                             train_images, \n",
    "                             epochs=300)"
   ]
  },
  {
   "cell_type": "markdown",
   "id": "e161de65",
   "metadata": {},
   "source": [
    "## Reconstructing image"
   ]
  },
  {
   "cell_type": "code",
   "execution_count": 17,
   "id": "df508507",
   "metadata": {},
   "outputs": [],
   "source": [
    "def reconstruct_img(model, images, n_imgs):\n",
    "    random_int = randint(0, images.shape[0] - n_imgs)\n",
    "    reconstructions = model.predict(images[random_int : random_int + n_imgs])\n",
    "    fig = plt.figure(figsize=(n_imgs * 3, 3))\n",
    "    for img_index in range(n_imgs):\n",
    "        plt.subplot(2, n_imgs, 1 + img_index)\n",
    "        plt.imshow(images[random_int + img_index])\n",
    "        plt.subplot(2, n_imgs, 1 + n_imgs + img_index)\n",
    "        plt.imshow(reconstructions[img_index])"
   ]
  },
  {
   "cell_type": "code",
   "execution_count": 18,
   "id": "3fa5f32d",
   "metadata": {},
   "outputs": [
    {
     "name": "stdout",
     "output_type": "stream",
     "text": [
      "1/1 [==============================] - 0s 131ms/step\n"
     ]
    },
    {
     "data": {
      "image/png": "[encoded data removed]",
      "text/plain": [
       "<Figure size 1500x300 with 10 Axes>"
      ]
     },
     "metadata": {},
     "output_type": "display_data"
    }
   ],
   "source": [
    "reconstruct_img(ae_model, test_images, 5)"
   ]
  },
  {
   "cell_type": "code",
   "execution_count": 19,
   "id": "3cddeb00",
   "metadata": {},
   "outputs": [
    {
     "name": "stdout",
     "output_type": "stream",
     "text": [
      "1/1 [==============================] - 0s 40ms/step\n"
     ]
    },
    {
     "data": {
      "image/png": "[encoded data removed]",
      "text/plain": [
       "<Figure size 1500x300 with 10 Axes>"
      ]
     },
     "metadata": {},
     "output_type": "display_data"
    }
   ],
   "source": [
    "reconstruct_img(ae_model, test_images, 5)"
   ]
  },
  {
   "cell_type": "markdown",
   "id": "acbcd73d",
   "metadata": {},
   "source": [
    "## Building autoencoder using Convolutional layers"
   ]
  },
  {
   "cell_type": "code",
   "execution_count": 20,
   "id": "ba80c095",
   "metadata": {},
   "outputs": [
    {
     "name": "stdout",
     "output_type": "stream",
     "text": [
      "WARNING:tensorflow:From C:\\Users\\User\\anaconda3\\Lib\\site-packages\\keras\\src\\layers\\pooling\\max_pooling2d.py:161: The name tf.nn.max_pool is deprecated. Please use tf.nn.max_pool2d instead.\n",
      "\n"
     ]
    }
   ],
   "source": [
    "conv_encoder = tf.keras.models.Sequential([\n",
    "    layers.Reshape([28, 28, 1], input_shape=[28, 28]),      \n",
    "    layers.Conv2D(32, kernel_size=3, padding=\"SAME\", activation=\"relu\"),\n",
    "    layers.MaxPool2D(pool_size=2),\n",
    "    layers.Conv2D(64, kernel_size=3, padding=\"SAME\", activation=\"relu\"),\n",
    "    layers.MaxPool2D(pool_size=2),\n",
    "    layers.Conv2D(128, kernel_size=3, padding=\"SAME\", activation=\"relu\"),\n",
    "    layers.MaxPool2D(pool_size=2)\n",
    "])"
   ]
  },
  {
   "cell_type": "code",
   "execution_count": 21,
   "id": "947d4632",
   "metadata": {},
   "outputs": [],
   "source": [
    "conv_decoder = tf.keras.models.Sequential([\n",
    "    layers.Conv2DTranspose(64, kernel_size=3, strides=2, \n",
    "                           padding=\"VALID\", activation=\"relu\",\n",
    "                           input_shape=[3, 3, 128]),\n",
    "    layers.Dropout(0.25), #to prevent overfitting\n",
    "    layers.Conv2DTranspose(32, kernel_size=3, strides=2, \n",
    "                           padding=\"SAME\", activation=\"relu\"),\n",
    "    layers.Dropout(0.25),\n",
    "    layers.Conv2DTranspose(1, kernel_size=3, strides=2, \n",
    "                           padding=\"SAME\", activation=\"sigmoid\"),\n",
    "    layers.Reshape([28, 28])\n",
    "])"
   ]
  },
  {
   "cell_type": "code",
   "execution_count": 22,
   "id": "ffcbe566",
   "metadata": {},
   "outputs": [],
   "source": [
    "conv_ae_model = tf.keras.models.Sequential([conv_encoder, conv_decoder])"
   ]
  },
  {
   "cell_type": "code",
   "execution_count": 23,
   "id": "da18ec12",
   "metadata": {},
   "outputs": [
    {
     "name": "stdout",
     "output_type": "stream",
     "text": [
      "WARNING:tensorflow:From C:\\Users\\User\\anaconda3\\Lib\\site-packages\\keras\\src\\optimizers\\__init__.py:309: The name tf.train.Optimizer is deprecated. Please use tf.compat.v1.train.Optimizer instead.\n",
      "\n"
     ]
    }
   ],
   "source": [
    "conv_ae_model.compile(loss='binary_crossentropy',\n",
    "                    optimizer='adam',\n",
    "                    metrics=['accuracy'])"
   ]
  },
  {
   "cell_type": "code",
   "execution_count": 38,
   "id": "87d4d83f",
   "metadata": {},
   "outputs": [],
   "source": [
    "training_hist_convAE = conv_ae_model.fit(train_images, train_images, epochs=10, verbose=False)\n",
    "#we ran it multiple times (total number of epochs>10)"
   ]
  },
  {
   "cell_type": "code",
   "execution_count": 41,
   "id": "f96ddecd",
   "metadata": {},
   "outputs": [
    {
     "name": "stdout",
     "output_type": "stream",
     "text": [
      "1/1 [==============================] - 0s 31ms/step\n"
     ]
    },
    {
     "data": {
      "image/png": "[encoded data removed]",
      "text/plain": [
       "<Figure size 1500x300 with 10 Axes>"
      ]
     },
     "metadata": {},
     "output_type": "display_data"
    }
   ],
   "source": [
    "reconstruct_img(conv_ae_model, test_images, 5)"
   ]
  },
  {
   "cell_type": "code",
   "execution_count": 42,
   "id": "a983689a",
   "metadata": {},
   "outputs": [
    {
     "name": "stdout",
     "output_type": "stream",
     "text": [
      "1/1 [==============================] - 0s 32ms/step\n"
     ]
    },
    {
     "data": {
      "image/png": "[encoded data removed]",
      "text/plain": [
       "<Figure size 1500x300 with 10 Axes>"
      ]
     },
     "metadata": {},
     "output_type": "display_data"
    }
   ],
   "source": [
    "reconstruct_img(conv_ae_model, test_images, 5)"
   ]
  },
  {
   "cell_type": "code",
   "execution_count": null,
   "id": "d14a6a88",
   "metadata": {},
   "outputs": [],
   "source": []
  }
 ],
 "metadata": {
  "kernelspec": {
   "display_name": "Python 3 (ipykernel)",
   "language": "python",
   "name": "python3"
  },
  "language_info": {
   "codemirror_mode": {
    "name": "ipython",
    "version": 3
   },
   "file_extension": ".py",
   "mimetype": "text/x-python",
   "name": "python",
   "nbconvert_exporter": "python",
   "pygments_lexer": "ipython3",
   "version": "3.11.5"
  }
 },
 "nbformat": 4,
 "nbformat_minor": 5
}
