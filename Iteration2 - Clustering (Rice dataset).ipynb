{
 "cells": [
  {
   "cell_type": "code",
   "execution_count": 1,
   "id": "09e2430d",
   "metadata": {},
   "outputs": [],
   "source": [
    "#https://www.kaggle.com/datasets/seymasa/rice-dataset-gonenjasmine\n",
    "import sklearn\n",
    "import pandas as pd\n",
    "import numpy as np\n",
    "import matplotlib.pyplot as plt"
   ]
  },
  {
   "cell_type": "code",
   "execution_count": 2,
   "id": "26e12f2f",
   "metadata": {},
   "outputs": [
    {
     "data": {
      "text/html": [
       "<div>\n",
       "<style scoped>\n",
       "    .dataframe tbody tr th:only-of-type {\n",
       "        vertical-align: middle;\n",
       "    }\n",
       "\n",
       "    .dataframe tbody tr th {\n",
       "        vertical-align: top;\n",
       "    }\n",
       "\n",
       "    .dataframe thead th {\n",
       "        text-align: right;\n",
       "    }\n",
       "</style>\n",
       "<table border=\"1\" class=\"dataframe\">\n",
       "  <thead>\n",
       "    <tr style=\"text-align: right;\">\n",
       "      <th></th>\n",
       "      <th>id</th>\n",
       "      <th>Area</th>\n",
       "      <th>MajorAxisLength</th>\n",
       "      <th>MinorAxisLength</th>\n",
       "      <th>Eccentricity</th>\n",
       "      <th>ConvexArea</th>\n",
       "      <th>EquivDiameter</th>\n",
       "      <th>Extent</th>\n",
       "      <th>Perimeter</th>\n",
       "      <th>Roundness</th>\n",
       "      <th>AspectRation</th>\n",
       "      <th>Class</th>\n",
       "    </tr>\n",
       "  </thead>\n",
       "  <tbody>\n",
       "    <tr>\n",
       "      <th>0</th>\n",
       "      <td>1</td>\n",
       "      <td>4537</td>\n",
       "      <td>92.229316</td>\n",
       "      <td>64.012769</td>\n",
       "      <td>0.719916</td>\n",
       "      <td>4677</td>\n",
       "      <td>76.004525</td>\n",
       "      <td>0.657536</td>\n",
       "      <td>273.085</td>\n",
       "      <td>0.764510</td>\n",
       "      <td>1.440796</td>\n",
       "      <td>jasmine</td>\n",
       "    </tr>\n",
       "    <tr>\n",
       "      <th>1</th>\n",
       "      <td>2</td>\n",
       "      <td>2872</td>\n",
       "      <td>74.691881</td>\n",
       "      <td>51.400454</td>\n",
       "      <td>0.725553</td>\n",
       "      <td>3015</td>\n",
       "      <td>60.471018</td>\n",
       "      <td>0.713009</td>\n",
       "      <td>208.317</td>\n",
       "      <td>0.831658</td>\n",
       "      <td>1.453137</td>\n",
       "      <td>jasmine</td>\n",
       "    </tr>\n",
       "    <tr>\n",
       "      <th>2</th>\n",
       "      <td>3</td>\n",
       "      <td>3048</td>\n",
       "      <td>76.293164</td>\n",
       "      <td>52.043491</td>\n",
       "      <td>0.731211</td>\n",
       "      <td>3132</td>\n",
       "      <td>62.296341</td>\n",
       "      <td>0.759153</td>\n",
       "      <td>210.012</td>\n",
       "      <td>0.868434</td>\n",
       "      <td>1.465950</td>\n",
       "      <td>jasmine</td>\n",
       "    </tr>\n",
       "    <tr>\n",
       "      <th>3</th>\n",
       "      <td>4</td>\n",
       "      <td>3073</td>\n",
       "      <td>77.033628</td>\n",
       "      <td>51.928487</td>\n",
       "      <td>0.738639</td>\n",
       "      <td>3157</td>\n",
       "      <td>62.551300</td>\n",
       "      <td>0.783529</td>\n",
       "      <td>210.657</td>\n",
       "      <td>0.870203</td>\n",
       "      <td>1.483456</td>\n",
       "      <td>jasmine</td>\n",
       "    </tr>\n",
       "    <tr>\n",
       "      <th>4</th>\n",
       "      <td>5</td>\n",
       "      <td>3693</td>\n",
       "      <td>85.124785</td>\n",
       "      <td>56.374021</td>\n",
       "      <td>0.749282</td>\n",
       "      <td>3802</td>\n",
       "      <td>68.571668</td>\n",
       "      <td>0.769375</td>\n",
       "      <td>230.332</td>\n",
       "      <td>0.874743</td>\n",
       "      <td>1.510000</td>\n",
       "      <td>jasmine</td>\n",
       "    </tr>\n",
       "  </tbody>\n",
       "</table>\n",
       "</div>"
      ],
      "text/plain": [
       "   id  Area  MajorAxisLength  MinorAxisLength  Eccentricity  ConvexArea  \\\n",
       "0   1  4537        92.229316        64.012769      0.719916        4677   \n",
       "1   2  2872        74.691881        51.400454      0.725553        3015   \n",
       "2   3  3048        76.293164        52.043491      0.731211        3132   \n",
       "3   4  3073        77.033628        51.928487      0.738639        3157   \n",
       "4   5  3693        85.124785        56.374021      0.749282        3802   \n",
       "\n",
       "   EquivDiameter    Extent  Perimeter  Roundness  AspectRation    Class  \n",
       "0      76.004525  0.657536    273.085   0.764510      1.440796  jasmine  \n",
       "1      60.471018  0.713009    208.317   0.831658      1.453137  jasmine  \n",
       "2      62.296341  0.759153    210.012   0.868434      1.465950  jasmine  \n",
       "3      62.551300  0.783529    210.657   0.870203      1.483456  jasmine  \n",
       "4      68.571668  0.769375    230.332   0.874743      1.510000  jasmine  "
      ]
     },
     "execution_count": 2,
     "metadata": {},
     "output_type": "execute_result"
    }
   ],
   "source": [
    "df_rice = pd.read_csv('rice.csv')\n",
    "df_rice.head()"
   ]
  },
  {
   "cell_type": "code",
   "execution_count": 3,
   "id": "eae591b6",
   "metadata": {},
   "outputs": [],
   "source": [
    "df_rice = df_rice.drop('id',axis=1)"
   ]
  },
  {
   "cell_type": "code",
   "execution_count": 4,
   "id": "44b02f5c",
   "metadata": {},
   "outputs": [
    {
     "data": {
      "text/plain": [
       "(18185, 11)"
      ]
     },
     "execution_count": 4,
     "metadata": {},
     "output_type": "execute_result"
    }
   ],
   "source": [
    "df_rice.shape"
   ]
  },
  {
   "cell_type": "code",
   "execution_count": 5,
   "id": "e9ae204d",
   "metadata": {},
   "outputs": [
    {
     "name": "stdout",
     "output_type": "stream",
     "text": [
      "<class 'pandas.core.frame.DataFrame'>\n",
      "RangeIndex: 18185 entries, 0 to 18184\n",
      "Data columns (total 11 columns):\n",
      " #   Column           Non-Null Count  Dtype  \n",
      "---  ------           --------------  -----  \n",
      " 0   Area             18185 non-null  int64  \n",
      " 1   MajorAxisLength  18185 non-null  float64\n",
      " 2   MinorAxisLength  18185 non-null  float64\n",
      " 3   Eccentricity     18185 non-null  float64\n",
      " 4   ConvexArea       18185 non-null  int64  \n",
      " 5   EquivDiameter    18185 non-null  float64\n",
      " 6   Extent           18185 non-null  float64\n",
      " 7   Perimeter        18185 non-null  float64\n",
      " 8   Roundness        18185 non-null  float64\n",
      " 9   AspectRation     18185 non-null  float64\n",
      " 10  Class            18185 non-null  object \n",
      "dtypes: float64(8), int64(2), object(1)\n",
      "memory usage: 1.5+ MB\n"
     ]
    }
   ],
   "source": [
    "df_rice.info()"
   ]
  },
  {
   "cell_type": "code",
   "execution_count": 6,
   "id": "e71d5c12",
   "metadata": {},
   "outputs": [
    {
     "data": {
      "text/plain": [
       "Area               0\n",
       "MajorAxisLength    0\n",
       "MinorAxisLength    0\n",
       "Eccentricity       0\n",
       "ConvexArea         0\n",
       "EquivDiameter      0\n",
       "Extent             0\n",
       "Perimeter          0\n",
       "Roundness          0\n",
       "AspectRation       0\n",
       "Class              0\n",
       "dtype: int64"
      ]
     },
     "execution_count": 6,
     "metadata": {},
     "output_type": "execute_result"
    }
   ],
   "source": [
    "df_rice.isnull().sum()"
   ]
  },
  {
   "cell_type": "code",
   "execution_count": 7,
   "id": "5ba5119e",
   "metadata": {},
   "outputs": [
    {
     "data": {
      "text/plain": [
       "array(['jasmine', 'Gonen'], dtype=object)"
      ]
     },
     "execution_count": 7,
     "metadata": {},
     "output_type": "execute_result"
    }
   ],
   "source": [
    "df_rice['Class'].unique()"
   ]
  },
  {
   "cell_type": "code",
   "execution_count": 8,
   "id": "4cef0248",
   "metadata": {},
   "outputs": [
    {
     "data": {
      "text/html": [
       "<div>\n",
       "<style scoped>\n",
       "    .dataframe tbody tr th:only-of-type {\n",
       "        vertical-align: middle;\n",
       "    }\n",
       "\n",
       "    .dataframe tbody tr th {\n",
       "        vertical-align: top;\n",
       "    }\n",
       "\n",
       "    .dataframe thead th {\n",
       "        text-align: right;\n",
       "    }\n",
       "</style>\n",
       "<table border=\"1\" class=\"dataframe\">\n",
       "  <thead>\n",
       "    <tr style=\"text-align: right;\">\n",
       "      <th></th>\n",
       "      <th>Area</th>\n",
       "      <th>MajorAxisLength</th>\n",
       "      <th>MinorAxisLength</th>\n",
       "      <th>Eccentricity</th>\n",
       "      <th>ConvexArea</th>\n",
       "      <th>EquivDiameter</th>\n",
       "      <th>Extent</th>\n",
       "      <th>Perimeter</th>\n",
       "      <th>Roundness</th>\n",
       "      <th>AspectRation</th>\n",
       "      <th>Class</th>\n",
       "    </tr>\n",
       "  </thead>\n",
       "  <tbody>\n",
       "    <tr>\n",
       "      <th>0</th>\n",
       "      <td>4537</td>\n",
       "      <td>92.229316</td>\n",
       "      <td>64.012769</td>\n",
       "      <td>0.719916</td>\n",
       "      <td>4677</td>\n",
       "      <td>76.004525</td>\n",
       "      <td>0.657536</td>\n",
       "      <td>273.085</td>\n",
       "      <td>0.764510</td>\n",
       "      <td>1.440796</td>\n",
       "      <td>1</td>\n",
       "    </tr>\n",
       "    <tr>\n",
       "      <th>1</th>\n",
       "      <td>2872</td>\n",
       "      <td>74.691881</td>\n",
       "      <td>51.400454</td>\n",
       "      <td>0.725553</td>\n",
       "      <td>3015</td>\n",
       "      <td>60.471018</td>\n",
       "      <td>0.713009</td>\n",
       "      <td>208.317</td>\n",
       "      <td>0.831658</td>\n",
       "      <td>1.453137</td>\n",
       "      <td>1</td>\n",
       "    </tr>\n",
       "    <tr>\n",
       "      <th>2</th>\n",
       "      <td>3048</td>\n",
       "      <td>76.293164</td>\n",
       "      <td>52.043491</td>\n",
       "      <td>0.731211</td>\n",
       "      <td>3132</td>\n",
       "      <td>62.296341</td>\n",
       "      <td>0.759153</td>\n",
       "      <td>210.012</td>\n",
       "      <td>0.868434</td>\n",
       "      <td>1.465950</td>\n",
       "      <td>1</td>\n",
       "    </tr>\n",
       "    <tr>\n",
       "      <th>3</th>\n",
       "      <td>3073</td>\n",
       "      <td>77.033628</td>\n",
       "      <td>51.928487</td>\n",
       "      <td>0.738639</td>\n",
       "      <td>3157</td>\n",
       "      <td>62.551300</td>\n",
       "      <td>0.783529</td>\n",
       "      <td>210.657</td>\n",
       "      <td>0.870203</td>\n",
       "      <td>1.483456</td>\n",
       "      <td>1</td>\n",
       "    </tr>\n",
       "    <tr>\n",
       "      <th>4</th>\n",
       "      <td>3693</td>\n",
       "      <td>85.124785</td>\n",
       "      <td>56.374021</td>\n",
       "      <td>0.749282</td>\n",
       "      <td>3802</td>\n",
       "      <td>68.571668</td>\n",
       "      <td>0.769375</td>\n",
       "      <td>230.332</td>\n",
       "      <td>0.874743</td>\n",
       "      <td>1.510000</td>\n",
       "      <td>1</td>\n",
       "    </tr>\n",
       "  </tbody>\n",
       "</table>\n",
       "</div>"
      ],
      "text/plain": [
       "   Area  MajorAxisLength  MinorAxisLength  Eccentricity  ConvexArea  \\\n",
       "0  4537        92.229316        64.012769      0.719916        4677   \n",
       "1  2872        74.691881        51.400454      0.725553        3015   \n",
       "2  3048        76.293164        52.043491      0.731211        3132   \n",
       "3  3073        77.033628        51.928487      0.738639        3157   \n",
       "4  3693        85.124785        56.374021      0.749282        3802   \n",
       "\n",
       "   EquivDiameter    Extent  Perimeter  Roundness  AspectRation  Class  \n",
       "0      76.004525  0.657536    273.085   0.764510      1.440796      1  \n",
       "1      60.471018  0.713009    208.317   0.831658      1.453137      1  \n",
       "2      62.296341  0.759153    210.012   0.868434      1.465950      1  \n",
       "3      62.551300  0.783529    210.657   0.870203      1.483456      1  \n",
       "4      68.571668  0.769375    230.332   0.874743      1.510000      1  "
      ]
     },
     "execution_count": 8,
     "metadata": {},
     "output_type": "execute_result"
    }
   ],
   "source": [
    "from sklearn import preprocessing\n",
    "label_encoding = preprocessing.LabelEncoder()\n",
    "df_rice['Class'] = label_encoding.fit_transform(df_rice['Class'].astype(str))\n",
    "df_rice.head()"
   ]
  },
  {
   "cell_type": "code",
   "execution_count": 9,
   "id": "b2305832",
   "metadata": {},
   "outputs": [
    {
     "data": {
      "text/plain": [
       "(9092, 11)"
      ]
     },
     "execution_count": 9,
     "metadata": {},
     "output_type": "execute_result"
    }
   ],
   "source": [
    "df_rice = df_rice.sample(frac=0.5).reset_index(drop=True)\n",
    "df_rice.shape"
   ]
  },
  {
   "cell_type": "code",
   "execution_count": 10,
   "id": "2ea3ad8b",
   "metadata": {},
   "outputs": [],
   "source": [
    "from sklearn.cluster import KMeans\n",
    "from sklearn.cluster import AgglomerativeClustering\n",
    "from sklearn.cluster import DBSCAN\n",
    "from sklearn.cluster import MeanShift\n",
    "from sklearn.cluster import Birch\n",
    "from sklearn.cluster import AffinityPropagation\n",
    "from sklearn.cluster import MiniBatchKMeans"
   ]
  },
  {
   "cell_type": "code",
   "execution_count": 11,
   "id": "b4811486",
   "metadata": {},
   "outputs": [],
   "source": [
    "features = df_rice.drop('Class',axis=1)"
   ]
  },
  {
   "cell_type": "code",
   "execution_count": 12,
   "id": "f33584a3",
   "metadata": {},
   "outputs": [
    {
     "data": {
      "text/html": [
       "<div>\n",
       "<style scoped>\n",
       "    .dataframe tbody tr th:only-of-type {\n",
       "        vertical-align: middle;\n",
       "    }\n",
       "\n",
       "    .dataframe tbody tr th {\n",
       "        vertical-align: top;\n",
       "    }\n",
       "\n",
       "    .dataframe thead th {\n",
       "        text-align: right;\n",
       "    }\n",
       "</style>\n",
       "<table border=\"1\" class=\"dataframe\">\n",
       "  <thead>\n",
       "    <tr style=\"text-align: right;\">\n",
       "      <th></th>\n",
       "      <th>Area</th>\n",
       "      <th>MajorAxisLength</th>\n",
       "      <th>MinorAxisLength</th>\n",
       "      <th>Eccentricity</th>\n",
       "      <th>ConvexArea</th>\n",
       "      <th>EquivDiameter</th>\n",
       "      <th>Extent</th>\n",
       "      <th>Perimeter</th>\n",
       "      <th>Roundness</th>\n",
       "      <th>AspectRation</th>\n",
       "    </tr>\n",
       "  </thead>\n",
       "  <tbody>\n",
       "    <tr>\n",
       "      <th>0</th>\n",
       "      <td>-0.610753</td>\n",
       "      <td>-0.006222</td>\n",
       "      <td>-0.699926</td>\n",
       "      <td>0.714013</td>\n",
       "      <td>-0.583787</td>\n",
       "      <td>-0.577005</td>\n",
       "      <td>-1.005894</td>\n",
       "      <td>-0.292745</td>\n",
       "      <td>-0.774787</td>\n",
       "      <td>0.626647</td>\n",
       "    </tr>\n",
       "    <tr>\n",
       "      <th>1</th>\n",
       "      <td>-0.783003</td>\n",
       "      <td>0.097391</td>\n",
       "      <td>-1.005032</td>\n",
       "      <td>0.978956</td>\n",
       "      <td>-0.791401</td>\n",
       "      <td>-0.762701</td>\n",
       "      <td>-0.026902</td>\n",
       "      <td>-0.486480</td>\n",
       "      <td>-0.856194</td>\n",
       "      <td>1.092256</td>\n",
       "    </tr>\n",
       "    <tr>\n",
       "      <th>2</th>\n",
       "      <td>-1.418689</td>\n",
       "      <td>-0.660057</td>\n",
       "      <td>-1.518314</td>\n",
       "      <td>1.134787</td>\n",
       "      <td>-1.434268</td>\n",
       "      <td>-1.485100</td>\n",
       "      <td>-0.666940</td>\n",
       "      <td>-1.294701</td>\n",
       "      <td>-1.100654</td>\n",
       "      <td>1.419422</td>\n",
       "    </tr>\n",
       "    <tr>\n",
       "      <th>3</th>\n",
       "      <td>-1.849999</td>\n",
       "      <td>-2.351075</td>\n",
       "      <td>-1.401884</td>\n",
       "      <td>0.388991</td>\n",
       "      <td>-1.855503</td>\n",
       "      <td>-2.014770</td>\n",
       "      <td>0.587183</td>\n",
       "      <td>-2.470942</td>\n",
       "      <td>-0.120606</td>\n",
       "      <td>0.168544</td>\n",
       "    </tr>\n",
       "    <tr>\n",
       "      <th>4</th>\n",
       "      <td>-0.341441</td>\n",
       "      <td>0.558990</td>\n",
       "      <td>-0.660977</td>\n",
       "      <td>0.867171</td>\n",
       "      <td>-0.342796</td>\n",
       "      <td>-0.294163</td>\n",
       "      <td>-0.910159</td>\n",
       "      <td>-0.021135</td>\n",
       "      <td>-0.616065</td>\n",
       "      <td>0.883565</td>\n",
       "    </tr>\n",
       "  </tbody>\n",
       "</table>\n",
       "</div>"
      ],
      "text/plain": [
       "       Area  MajorAxisLength  MinorAxisLength  Eccentricity  ConvexArea  \\\n",
       "0 -0.610753        -0.006222        -0.699926      0.714013   -0.583787   \n",
       "1 -0.783003         0.097391        -1.005032      0.978956   -0.791401   \n",
       "2 -1.418689        -0.660057        -1.518314      1.134787   -1.434268   \n",
       "3 -1.849999        -2.351075        -1.401884      0.388991   -1.855503   \n",
       "4 -0.341441         0.558990        -0.660977      0.867171   -0.342796   \n",
       "\n",
       "   EquivDiameter    Extent  Perimeter  Roundness  AspectRation  \n",
       "0      -0.577005 -1.005894  -0.292745  -0.774787      0.626647  \n",
       "1      -0.762701 -0.026902  -0.486480  -0.856194      1.092256  \n",
       "2      -1.485100 -0.666940  -1.294701  -1.100654      1.419422  \n",
       "3      -2.014770  0.587183  -2.470942  -0.120606      0.168544  \n",
       "4      -0.294163 -0.910159  -0.021135  -0.616065      0.883565  "
      ]
     },
     "execution_count": 12,
     "metadata": {},
     "output_type": "execute_result"
    }
   ],
   "source": [
    "from sklearn.preprocessing import StandardScaler\n",
    "scaler = StandardScaler()\n",
    "col_names = features.columns\n",
    "features = scaler.fit_transform(features)\n",
    "features = pd.DataFrame(data=features, columns=col_names)\n",
    "features.head()"
   ]
  },
  {
   "cell_type": "code",
   "execution_count": 13,
   "id": "13192ea6",
   "metadata": {},
   "outputs": [],
   "source": [
    "label = df_rice[\"Class\"]"
   ]
  },
  {
   "cell_type": "markdown",
   "id": "65d71312",
   "metadata": {},
   "source": [
    "# KMeans"
   ]
  },
  {
   "cell_type": "code",
   "execution_count": 14,
   "id": "09a47b34",
   "metadata": {},
   "outputs": [],
   "source": [
    "kmeans_model = KMeans(n_clusters=2, init=\"k-means++\", max_iter=5000, n_init='auto').fit(features)"
   ]
  },
  {
   "cell_type": "code",
   "execution_count": 15,
   "id": "eab354f1",
   "metadata": {},
   "outputs": [
    {
     "data": {
      "image/png": "[encoded data removed]",
      "text/plain": [
       "<Figure size 1500x1000 with 1 Axes>"
      ]
     },
     "metadata": {},
     "output_type": "display_data"
    }
   ],
   "source": [
    "centroids = kmeans_model.cluster_centers_\n",
    "\n",
    "fig, ax = plt.subplots(figsize=(15, 10))\n",
    "plt.scatter(centroids[:,0], centroids[:,1], c='r', s=250, marker='s')\n",
    "for i in range(len(centroids)):\n",
    "    plt.annotate(i, (centroids[i][0], centroids[i][1]), fontsize=30)"
   ]
  },
  {
   "cell_type": "code",
   "execution_count": 16,
   "id": "b3c73b49",
   "metadata": {},
   "outputs": [
    {
     "name": "stdout",
     "output_type": "stream",
     "text": [
      "Homogeneity_score:  0.8392896113362159\n",
      "Completeness_score:  0.8471867253858933\n",
      "v_measure_score:  0.8432196788012087\n",
      "Adjusted_rand_score:  0.8975786196681936\n",
      "Adjusted_mutual_info_score:  0.8432070775355022\n",
      "Silhouette_score:  0.4946606812260302\n"
     ]
    }
   ],
   "source": [
    "from sklearn import metrics\n",
    "print(\"Homogeneity_score: \", metrics.homogeneity_score(label, kmeans_model.labels_))\n",
    "print(\"Completeness_score: \", metrics.completeness_score(label, kmeans_model.labels_))\n",
    "print(\"v_measure_score: \", metrics.v_measure_score(label, kmeans_model.labels_))\n",
    "print(\"Adjusted_rand_score: \", metrics.adjusted_rand_score(label, kmeans_model.labels_))\n",
    "print(\"Adjusted_mutual_info_score: \", metrics.adjusted_mutual_info_score(label,  kmeans_model.labels_))\n",
    "print(\"Silhouette_score: \", metrics.silhouette_score(features, kmeans_model.labels_))"
   ]
  },
  {
   "cell_type": "markdown",
   "id": "7a0d1306",
   "metadata": {},
   "source": [
    "## Hyperparameter using ParameterGrid"
   ]
  },
  {
   "cell_type": "code",
   "execution_count": 23,
   "id": "9bd21f36",
   "metadata": {},
   "outputs": [],
   "source": [
    "from sklearn.model_selection import ParameterGrid\n",
    "parameters = {'n_clusters': [2, 3, 4, 5, 6, 7, 8, 9, 10, 20, 30]}\n",
    "parameter_grid = ParameterGrid(parameters)"
   ]
  },
  {
   "cell_type": "code",
   "execution_count": 26,
   "id": "b8bb5112",
   "metadata": {},
   "outputs": [
    {
     "name": "stdout",
     "output_type": "stream",
     "text": [
      "Parameter:  {'n_clusters': 2} Score:  0.49465657792596374\n",
      "Parameter:  {'n_clusters': 3} Score:  0.4597661775109626\n",
      "Parameter:  {'n_clusters': 4} Score:  0.3796868864504335\n",
      "Parameter:  {'n_clusters': 5} Score:  0.34740552727949153\n",
      "Parameter:  {'n_clusters': 6} Score:  0.358241546617585\n",
      "Parameter:  {'n_clusters': 7} Score:  0.2906045332277605\n",
      "Parameter:  {'n_clusters': 8} Score:  0.29169483200238266\n",
      "Parameter:  {'n_clusters': 9} Score:  0.3236881587891748\n",
      "Parameter:  {'n_clusters': 10} Score:  0.2636740801405318\n",
      "Parameter:  {'n_clusters': 20} Score:  0.2429339051061781\n",
      "Parameter:  {'n_clusters': 30} Score:  0.22546687725600695\n"
     ]
    }
   ],
   "source": [
    "best_score = -1\n",
    "for g in parameter_grid:\n",
    "    model = KMeans(**g, n_init='auto')\n",
    "    model.fit(features)\n",
    "    ss = metrics.silhouette_score(features, model.labels_)\n",
    "    print('Parameter: ', g, 'Score: ', ss)\n",
    "    if ss > best_score:\n",
    "        best_score = ss\n",
    "        best_grid = g"
   ]
  },
  {
   "cell_type": "code",
   "execution_count": 27,
   "id": "33dcece9",
   "metadata": {},
   "outputs": [
    {
     "data": {
      "text/plain": [
       "{'n_clusters': 2}"
      ]
     },
     "execution_count": 27,
     "metadata": {},
     "output_type": "execute_result"
    }
   ],
   "source": [
    "best_grid"
   ]
  },
  {
   "cell_type": "markdown",
   "id": "ab13205d",
   "metadata": {},
   "source": [
    "# Agglomerative"
   ]
  },
  {
   "cell_type": "code",
   "execution_count": 35,
   "id": "c5ea1be5",
   "metadata": {},
   "outputs": [],
   "source": [
    "agglo_model = AgglomerativeClustering(n_clusters=2).fit(features)"
   ]
  },
  {
   "cell_type": "code",
   "execution_count": 36,
   "id": "eb3c31dc",
   "metadata": {},
   "outputs": [
    {
     "name": "stdout",
     "output_type": "stream",
     "text": [
      "Homogeneity_score:  0.7968398337845883\n",
      "Completeness_score:  0.7955406348517716\n",
      "v_measure_score:  0.7961897043198849\n",
      "Adjusted_rand_score:  0.8768713116949731\n",
      "Adjusted_mutual_info_score:  0.796173412722085\n",
      "Silhouette_score:  0.48271627236095027\n"
     ]
    }
   ],
   "source": [
    "print(\"Homogeneity_score: \", metrics.homogeneity_score(label, agglo_model.labels_))\n",
    "print(\"Completeness_score: \", metrics.completeness_score(label, agglo_model.labels_))\n",
    "print(\"v_measure_score: \", metrics.v_measure_score(label, agglo_model.labels_))\n",
    "print(\"Adjusted_rand_score: \", metrics.adjusted_rand_score(label, agglo_model.labels_))\n",
    "print(\"Adjusted_mutual_info_score: \", metrics.adjusted_mutual_info_score(label, agglo_model.labels_))\n",
    "print(\"Silhouette_score: \", metrics.silhouette_score(features, agglo_model.labels_))"
   ]
  },
  {
   "cell_type": "markdown",
   "id": "d262e7a3",
   "metadata": {},
   "source": [
    "## Hyperparameter using ParameterGrid"
   ]
  },
  {
   "cell_type": "code",
   "execution_count": 38,
   "id": "0d8a5883",
   "metadata": {},
   "outputs": [],
   "source": [
    "parameters = {'n_clusters': [2, 3, 4, 5, 6, 7, 8, 9, 10, 20, 30]}\n",
    "parameter_grid = ParameterGrid(parameters)"
   ]
  },
  {
   "cell_type": "code",
   "execution_count": 39,
   "id": "dcdc181a",
   "metadata": {},
   "outputs": [
    {
     "name": "stdout",
     "output_type": "stream",
     "text": [
      "Parameter:  {'n_clusters': 2} Score:  0.48271627236095027\n",
      "Parameter:  {'n_clusters': 3} Score:  0.44715871010420805\n",
      "Parameter:  {'n_clusters': 4} Score:  0.33131953998624736\n",
      "Parameter:  {'n_clusters': 5} Score:  0.31622729790450166\n",
      "Parameter:  {'n_clusters': 6} Score:  0.3222783813771461\n",
      "Parameter:  {'n_clusters': 7} Score:  0.3043464542640774\n",
      "Parameter:  {'n_clusters': 8} Score:  0.21840311861922782\n",
      "Parameter:  {'n_clusters': 9} Score:  0.22089655053282395\n",
      "Parameter:  {'n_clusters': 10} Score:  0.22407700656398274\n",
      "Parameter:  {'n_clusters': 20} Score:  0.16423518921315275\n",
      "Parameter:  {'n_clusters': 30} Score:  0.16630819098143357\n"
     ]
    }
   ],
   "source": [
    "best_score = -1\n",
    "for g in parameter_grid:\n",
    "    model = AgglomerativeClustering(**g)\n",
    "    model.fit(features)\n",
    "    ss = metrics.silhouette_score(features, model.labels_)\n",
    "    print('Parameter: ', g, 'Score: ', ss)\n",
    "    if ss > best_score:\n",
    "        best_score = ss\n",
    "        best_grid = g"
   ]
  },
  {
   "cell_type": "code",
   "execution_count": 40,
   "id": "44824a85",
   "metadata": {},
   "outputs": [
    {
     "data": {
      "text/plain": [
       "{'n_clusters': 2}"
      ]
     },
     "execution_count": 40,
     "metadata": {},
     "output_type": "execute_result"
    }
   ],
   "source": [
    "best_grid"
   ]
  },
  {
   "cell_type": "markdown",
   "id": "ae4607dc",
   "metadata": {},
   "source": [
    "# MeanShift"
   ]
  },
  {
   "cell_type": "code",
   "execution_count": 41,
   "id": "e28393bf",
   "metadata": {},
   "outputs": [],
   "source": [
    "meanshift_model = MeanShift(bandwidth=0.85).fit(features)"
   ]
  },
  {
   "cell_type": "code",
   "execution_count": 42,
   "id": "c5805eab",
   "metadata": {},
   "outputs": [
    {
     "name": "stdout",
     "output_type": "stream",
     "text": [
      "Homogeneity_score:  0.885999309158845\n",
      "Completeness_score:  0.22355107081918626\n",
      "v_measure_score:  0.3570204614078735\n",
      "Adjusted_rand_score:  0.23044722673829518\n",
      "Adjusted_mutual_info_score:  0.35364022609532975\n",
      "Silhouette_score:  0.1029613145734839\n"
     ]
    }
   ],
   "source": [
    "print(\"Homogeneity_score: \", metrics.homogeneity_score(label, meanshift_model.labels_))\n",
    "print(\"Completeness_score: \", metrics.completeness_score(label, meanshift_model.labels_))\n",
    "print(\"v_measure_score: \", metrics.v_measure_score(label, meanshift_model.labels_))\n",
    "print(\"Adjusted_rand_score: \", metrics.adjusted_rand_score(label, meanshift_model.labels_))\n",
    "print(\"Adjusted_mutual_info_score: \", metrics.adjusted_mutual_info_score(label, meanshift_model.labels_))\n",
    "print(\"Silhouette_score: \", metrics.silhouette_score(features, meanshift_model.labels_))"
   ]
  },
  {
   "cell_type": "markdown",
   "id": "bf6c01c9",
   "metadata": {},
   "source": [
    "## Hyperparameter using ParameterGrid"
   ]
  },
  {
   "cell_type": "code",
   "execution_count": 44,
   "id": "75c23bb5",
   "metadata": {},
   "outputs": [],
   "source": [
    "from sklearn.cluster import estimate_bandwidth\n",
    "est=estimate_bandwidth(features)"
   ]
  },
  {
   "cell_type": "code",
   "execution_count": 48,
   "id": "5c2c0dba",
   "metadata": {},
   "outputs": [
    {
     "data": {
      "text/plain": [
       "0.4945965820083592"
      ]
     },
     "execution_count": 48,
     "metadata": {},
     "output_type": "execute_result"
    }
   ],
   "source": [
    "model = MeanShift(bandwidth=est).fit(features)\n",
    "metrics.silhouette_score(features, model.labels_)"
   ]
  },
  {
   "cell_type": "code",
   "execution_count": 49,
   "id": "589241a7",
   "metadata": {},
   "outputs": [
    {
     "name": "stdout",
     "output_type": "stream",
     "text": [
      "Homogeneity_score:  0.8299362833170322\n",
      "Completeness_score:  0.8386877009529403\n",
      "v_measure_score:  0.8342890428931679\n",
      "Adjusted_rand_score:  0.889256688876094\n",
      "Adjusted_mutual_info_score:  0.8342757163680685\n",
      "Silhouette_score:  0.4945965820083592\n"
     ]
    }
   ],
   "source": [
    "print(\"Homogeneity_score: \", metrics.homogeneity_score(label, model.labels_))\n",
    "print(\"Completeness_score: \", metrics.completeness_score(label, model.labels_))\n",
    "print(\"v_measure_score: \", metrics.v_measure_score(label, model.labels_))\n",
    "print(\"Adjusted_rand_score: \", metrics.adjusted_rand_score(label, model.labels_))\n",
    "print(\"Adjusted_mutual_info_score: \", metrics.adjusted_mutual_info_score(label, model.labels_))\n",
    "print(\"Silhouette_score: \", metrics.silhouette_score(features, model.labels_))"
   ]
  },
  {
   "cell_type": "markdown",
   "id": "e36345c0",
   "metadata": {},
   "source": [
    "# DBSCAN"
   ]
  },
  {
   "cell_type": "code",
   "execution_count": 50,
   "id": "1437698d",
   "metadata": {},
   "outputs": [],
   "source": [
    "dbscan_model = DBSCAN(eps=0.55, min_samples=4).fit(features)"
   ]
  },
  {
   "cell_type": "code",
   "execution_count": 51,
   "id": "14fa8503",
   "metadata": {},
   "outputs": [
    {
     "name": "stdout",
     "output_type": "stream",
     "text": [
      "Homogeneity_score:  0.010082253190884292\n",
      "Completeness_score:  0.024631903116187213\n",
      "v_measure_score:  0.014308000551356724\n",
      "Adjusted_rand_score:  -0.004688271746025541\n",
      "Adjusted_mutual_info_score:  0.011654583163561522\n",
      "Silhouette_score:  -0.3721298503268086\n"
     ]
    }
   ],
   "source": [
    "print(\"Homogeneity_score: \", metrics.homogeneity_score(label, dbscan_model.labels_))\n",
    "print(\"Completeness_score: \", metrics.completeness_score(label, dbscan_model.labels_))\n",
    "print(\"v_measure_score: \", metrics.v_measure_score(label, dbscan_model.labels_))\n",
    "print(\"Adjusted_rand_score: \", metrics.adjusted_rand_score(label, dbscan_model.labels_))\n",
    "print(\"Adjusted_mutual_info_score: \", metrics.adjusted_mutual_info_score(label, dbscan_model.labels_))\n",
    "print(\"Silhouette_score: \", metrics.silhouette_score(features, dbscan_model.labels_))"
   ]
  },
  {
   "cell_type": "markdown",
   "id": "95a6af79",
   "metadata": {},
   "source": [
    "## Hyperparameter using ParameterGrid"
   ]
  },
  {
   "cell_type": "code",
   "execution_count": 55,
   "id": "20ffdc35",
   "metadata": {},
   "outputs": [],
   "source": [
    "parameters = {'eps': [0.9, 1.0, 1.1, 1.2, 1.3, 1.4, 1.5, 1.6, 1.7, 1.8, 1.9, 2.0],\n",
    "              'min_samples': [5, 7, 10, 12]}\n",
    "parameter_grid = ParameterGrid(parameters)"
   ]
  },
  {
   "cell_type": "code",
   "execution_count": 56,
   "id": "9bfa3c94",
   "metadata": {
    "scrolled": true
   },
   "outputs": [
    {
     "name": "stdout",
     "output_type": "stream",
     "text": [
      "Parameter:  {'eps': 0.9, 'min_samples': 5} Score:  0.16551926356177304\n",
      "Parameter:  {'eps': 0.9, 'min_samples': 7} Score:  0.39877679920125625\n",
      "Parameter:  {'eps': 0.9, 'min_samples': 10} Score:  0.4079350430903703\n",
      "Parameter:  {'eps': 0.9, 'min_samples': 12} Score:  0.39219645357477956\n",
      "Parameter:  {'eps': 1.0, 'min_samples': 5} Score:  0.41789533891084907\n",
      "Parameter:  {'eps': 1.0, 'min_samples': 7} Score:  0.4203907466084431\n",
      "Parameter:  {'eps': 1.0, 'min_samples': 10} Score:  0.4663626825099385\n",
      "Parameter:  {'eps': 1.0, 'min_samples': 12} Score:  0.4219621569283308\n",
      "Parameter:  {'eps': 1.1, 'min_samples': 5} Score:  0.48975699094766184\n",
      "Parameter:  {'eps': 1.1, 'min_samples': 7} Score:  0.4958779718440127\n",
      "Parameter:  {'eps': 1.1, 'min_samples': 10} Score:  0.4201748853439947\n",
      "Parameter:  {'eps': 1.1, 'min_samples': 12} Score:  0.4327054594910439\n",
      "Parameter:  {'eps': 1.2, 'min_samples': 5} Score:  0.5022024915792357\n",
      "Parameter:  {'eps': 1.2, 'min_samples': 7} Score:  0.5049365498402753\n",
      "Parameter:  {'eps': 1.2, 'min_samples': 10} Score:  0.4494501840032942\n",
      "Parameter:  {'eps': 1.2, 'min_samples': 12} Score:  0.5028677524937681\n",
      "Parameter:  {'eps': 1.3, 'min_samples': 5} Score:  0.5089216262403804\n",
      "Parameter:  {'eps': 1.3, 'min_samples': 7} Score:  0.5027475002714125\n",
      "Parameter:  {'eps': 1.3, 'min_samples': 10} Score:  0.5177458463892117\n",
      "Parameter:  {'eps': 1.3, 'min_samples': 12} Score:  0.5145320356024696\n",
      "Parameter:  {'eps': 1.4, 'min_samples': 5} Score:  0.4847834388913124\n",
      "Parameter:  {'eps': 1.4, 'min_samples': 7} Score:  0.5166212924575718\n",
      "Parameter:  {'eps': 1.4, 'min_samples': 10} Score:  0.5218623315735198\n",
      "Parameter:  {'eps': 1.4, 'min_samples': 12} Score:  0.5270449252885172\n",
      "Parameter:  {'eps': 1.5, 'min_samples': 5} Score:  0.4869942086222123\n",
      "Parameter:  {'eps': 1.5, 'min_samples': 7} Score:  0.5101756638786307\n",
      "Parameter:  {'eps': 1.5, 'min_samples': 10} Score:  0.525771179324611\n",
      "Parameter:  {'eps': 1.5, 'min_samples': 12} Score:  0.5307800406089597\n",
      "Parameter:  {'eps': 1.6, 'min_samples': 5} Score:  0.42673698074359284\n",
      "Parameter:  {'eps': 1.6, 'min_samples': 7} Score:  0.506094235613533\n",
      "Parameter:  {'eps': 1.6, 'min_samples': 10} Score:  0.5207446660297598\n",
      "Parameter:  {'eps': 1.6, 'min_samples': 12} Score:  0.5263031077540778\n",
      "Parameter:  {'eps': 1.7, 'min_samples': 5} Score:  0.34114600664052863\n",
      "Parameter:  {'eps': 1.7, 'min_samples': 7} Score:  0.4557090926071394\n",
      "Parameter:  {'eps': 1.7, 'min_samples': 10} Score:  0.5153868000289915\n",
      "Parameter:  {'eps': 1.7, 'min_samples': 12} Score:  0.5242011243664415\n",
      "Parameter:  {'eps': 1.8, 'min_samples': 5} Score:  0.452589568715245\n",
      "Parameter:  {'eps': 1.8, 'min_samples': 7} Score:  0.5086513661995542\n",
      "Parameter:  {'eps': 1.8, 'min_samples': 10} Score:  0.5545912112573987\n",
      "Parameter:  {'eps': 1.8, 'min_samples': 12} Score:  0.5503697580383643\n",
      "Parameter:  {'eps': 1.9, 'min_samples': 5} Score:  0.452589568715245\n",
      "Parameter:  {'eps': 1.9, 'min_samples': 7} Score:  0.523891227022498\n",
      "Parameter:  {'eps': 1.9, 'min_samples': 10} Score:  0.5435125105843258\n",
      "Parameter:  {'eps': 1.9, 'min_samples': 12} Score:  0.5435125105843258\n",
      "Parameter:  {'eps': 2.0, 'min_samples': 5} Score:  0.5756941738099367\n",
      "Parameter:  {'eps': 2.0, 'min_samples': 7} Score:  0.5756941738099367\n",
      "Parameter:  {'eps': 2.0, 'min_samples': 10} Score:  0.5756941738099367\n",
      "Parameter:  {'eps': 2.0, 'min_samples': 12} Score:  0.5261632458720884\n"
     ]
    }
   ],
   "source": [
    "model = DBSCAN()\n",
    "best_score = -1\n",
    "for g in parameter_grid:\n",
    "    model.set_params(**g)\n",
    "    model.fit(features)\n",
    "    ss = metrics.silhouette_score(features, model.labels_)\n",
    "    print('Parameter: ', g, 'Score: ', ss)\n",
    "    if ss > best_score:\n",
    "        best_score = ss\n",
    "        best_grid = g"
   ]
  },
  {
   "cell_type": "code",
   "execution_count": 57,
   "id": "a27a773d",
   "metadata": {},
   "outputs": [
    {
     "data": {
      "text/plain": [
       "{'eps': 2.0, 'min_samples': 5}"
      ]
     },
     "execution_count": 57,
     "metadata": {},
     "output_type": "execute_result"
    }
   ],
   "source": [
    "best_grid"
   ]
  },
  {
   "cell_type": "code",
   "execution_count": 58,
   "id": "3a89bb50",
   "metadata": {},
   "outputs": [],
   "source": [
    "dbscan_model = DBSCAN(eps=2.0, min_samples=5).fit(features)"
   ]
  },
  {
   "cell_type": "code",
   "execution_count": 59,
   "id": "3c276468",
   "metadata": {},
   "outputs": [
    {
     "name": "stdout",
     "output_type": "stream",
     "text": [
      "Homogeneity_score:  9.485902221552528e-05\n",
      "Completeness_score:  0.05862663223624586\n",
      "v_measure_score:  0.0001894115728512986\n",
      "Adjusted_rand_score:  -4.1937051000788914e-05\n",
      "Adjusted_mutual_info_score:  -3.0230890646845365e-05\n",
      "Silhouette_score:  0.5756941738099367\n"
     ]
    }
   ],
   "source": [
    "print(\"Homogeneity_score: \", metrics.homogeneity_score(label, dbscan_model.labels_))\n",
    "print(\"Completeness_score: \", metrics.completeness_score(label, dbscan_model.labels_))\n",
    "print(\"v_measure_score: \", metrics.v_measure_score(label, dbscan_model.labels_))\n",
    "print(\"Adjusted_rand_score: \", metrics.adjusted_rand_score(label, dbscan_model.labels_))\n",
    "print(\"Adjusted_mutual_info_score: \", metrics.adjusted_mutual_info_score(label, dbscan_model.labels_))\n",
    "print(\"Silhouette_score: \", metrics.silhouette_score(features, dbscan_model.labels_))"
   ]
  },
  {
   "cell_type": "code",
   "execution_count": null,
   "id": "b2c1a3eb",
   "metadata": {},
   "outputs": [],
   "source": []
  }
 ],
 "metadata": {
  "kernelspec": {
   "display_name": "Python 3 (ipykernel)",
   "language": "python",
   "name": "python3"
  },
  "language_info": {
   "codemirror_mode": {
    "name": "ipython",
    "version": 3
   },
   "file_extension": ".py",
   "mimetype": "text/x-python",
   "name": "python",
   "nbconvert_exporter": "python",
   "pygments_lexer": "ipython3",
   "version": "3.11.5"
  }
 },
 "nbformat": 4,
 "nbformat_minor": 5
}
