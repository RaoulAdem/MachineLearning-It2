{
 "cells": [
  {
   "cell_type": "code",
   "execution_count": 1,
   "id": "2fc3c58c",
   "metadata": {},
   "outputs": [],
   "source": [
    "#https://www.kaggle.com/datasets/datamunge/sign-language-mnist\n",
    "import pandas as pd\n",
    "import numpy as np\n",
    "import matplotlib.pyplot as plt\n",
    "\n",
    "from sklearn.model_selection import train_test_split\n",
    "from sklearn.metrics import accuracy_score\n",
    "from sklearn.metrics import precision_score\n",
    "from sklearn.metrics import recall_score\n",
    "\n",
    "from sklearn.linear_model import LogisticRegression"
   ]
  },
  {
   "cell_type": "code",
   "execution_count": 2,
   "id": "333bf051",
   "metadata": {},
   "outputs": [],
   "source": [
    "sign_mnist_df = pd.read_csv('sign_mnist_train.csv')"
   ]
  },
  {
   "cell_type": "code",
   "execution_count": 3,
   "id": "15876a5d",
   "metadata": {},
   "outputs": [
    {
     "data": {
      "text/html": [
       "<div>\n",
       "<style scoped>\n",
       "    .dataframe tbody tr th:only-of-type {\n",
       "        vertical-align: middle;\n",
       "    }\n",
       "\n",
       "    .dataframe tbody tr th {\n",
       "        vertical-align: top;\n",
       "    }\n",
       "\n",
       "    .dataframe thead th {\n",
       "        text-align: right;\n",
       "    }\n",
       "</style>\n",
       "<table border=\"1\" class=\"dataframe\">\n",
       "  <thead>\n",
       "    <tr style=\"text-align: right;\">\n",
       "      <th></th>\n",
       "      <th>label</th>\n",
       "      <th>pixel1</th>\n",
       "      <th>pixel2</th>\n",
       "      <th>pixel3</th>\n",
       "      <th>pixel4</th>\n",
       "      <th>pixel5</th>\n",
       "      <th>pixel6</th>\n",
       "      <th>pixel7</th>\n",
       "      <th>pixel8</th>\n",
       "      <th>pixel9</th>\n",
       "      <th>...</th>\n",
       "      <th>pixel775</th>\n",
       "      <th>pixel776</th>\n",
       "      <th>pixel777</th>\n",
       "      <th>pixel778</th>\n",
       "      <th>pixel779</th>\n",
       "      <th>pixel780</th>\n",
       "      <th>pixel781</th>\n",
       "      <th>pixel782</th>\n",
       "      <th>pixel783</th>\n",
       "      <th>pixel784</th>\n",
       "    </tr>\n",
       "  </thead>\n",
       "  <tbody>\n",
       "    <tr>\n",
       "      <th>0</th>\n",
       "      <td>3</td>\n",
       "      <td>107</td>\n",
       "      <td>118</td>\n",
       "      <td>127</td>\n",
       "      <td>134</td>\n",
       "      <td>139</td>\n",
       "      <td>143</td>\n",
       "      <td>146</td>\n",
       "      <td>150</td>\n",
       "      <td>153</td>\n",
       "      <td>...</td>\n",
       "      <td>207</td>\n",
       "      <td>207</td>\n",
       "      <td>207</td>\n",
       "      <td>207</td>\n",
       "      <td>206</td>\n",
       "      <td>206</td>\n",
       "      <td>206</td>\n",
       "      <td>204</td>\n",
       "      <td>203</td>\n",
       "      <td>202</td>\n",
       "    </tr>\n",
       "    <tr>\n",
       "      <th>1</th>\n",
       "      <td>6</td>\n",
       "      <td>155</td>\n",
       "      <td>157</td>\n",
       "      <td>156</td>\n",
       "      <td>156</td>\n",
       "      <td>156</td>\n",
       "      <td>157</td>\n",
       "      <td>156</td>\n",
       "      <td>158</td>\n",
       "      <td>158</td>\n",
       "      <td>...</td>\n",
       "      <td>69</td>\n",
       "      <td>149</td>\n",
       "      <td>128</td>\n",
       "      <td>87</td>\n",
       "      <td>94</td>\n",
       "      <td>163</td>\n",
       "      <td>175</td>\n",
       "      <td>103</td>\n",
       "      <td>135</td>\n",
       "      <td>149</td>\n",
       "    </tr>\n",
       "    <tr>\n",
       "      <th>2</th>\n",
       "      <td>2</td>\n",
       "      <td>187</td>\n",
       "      <td>188</td>\n",
       "      <td>188</td>\n",
       "      <td>187</td>\n",
       "      <td>187</td>\n",
       "      <td>186</td>\n",
       "      <td>187</td>\n",
       "      <td>188</td>\n",
       "      <td>187</td>\n",
       "      <td>...</td>\n",
       "      <td>202</td>\n",
       "      <td>201</td>\n",
       "      <td>200</td>\n",
       "      <td>199</td>\n",
       "      <td>198</td>\n",
       "      <td>199</td>\n",
       "      <td>198</td>\n",
       "      <td>195</td>\n",
       "      <td>194</td>\n",
       "      <td>195</td>\n",
       "    </tr>\n",
       "    <tr>\n",
       "      <th>3</th>\n",
       "      <td>2</td>\n",
       "      <td>211</td>\n",
       "      <td>211</td>\n",
       "      <td>212</td>\n",
       "      <td>212</td>\n",
       "      <td>211</td>\n",
       "      <td>210</td>\n",
       "      <td>211</td>\n",
       "      <td>210</td>\n",
       "      <td>210</td>\n",
       "      <td>...</td>\n",
       "      <td>235</td>\n",
       "      <td>234</td>\n",
       "      <td>233</td>\n",
       "      <td>231</td>\n",
       "      <td>230</td>\n",
       "      <td>226</td>\n",
       "      <td>225</td>\n",
       "      <td>222</td>\n",
       "      <td>229</td>\n",
       "      <td>163</td>\n",
       "    </tr>\n",
       "    <tr>\n",
       "      <th>4</th>\n",
       "      <td>13</td>\n",
       "      <td>164</td>\n",
       "      <td>167</td>\n",
       "      <td>170</td>\n",
       "      <td>172</td>\n",
       "      <td>176</td>\n",
       "      <td>179</td>\n",
       "      <td>180</td>\n",
       "      <td>184</td>\n",
       "      <td>185</td>\n",
       "      <td>...</td>\n",
       "      <td>92</td>\n",
       "      <td>105</td>\n",
       "      <td>105</td>\n",
       "      <td>108</td>\n",
       "      <td>133</td>\n",
       "      <td>163</td>\n",
       "      <td>157</td>\n",
       "      <td>163</td>\n",
       "      <td>164</td>\n",
       "      <td>179</td>\n",
       "    </tr>\n",
       "  </tbody>\n",
       "</table>\n",
       "<p>5 rows × 785 columns</p>\n",
       "</div>"
      ],
      "text/plain": [
       "   label  pixel1  pixel2  pixel3  pixel4  pixel5  pixel6  pixel7  pixel8  \\\n",
       "0      3     107     118     127     134     139     143     146     150   \n",
       "1      6     155     157     156     156     156     157     156     158   \n",
       "2      2     187     188     188     187     187     186     187     188   \n",
       "3      2     211     211     212     212     211     210     211     210   \n",
       "4     13     164     167     170     172     176     179     180     184   \n",
       "\n",
       "   pixel9  ...  pixel775  pixel776  pixel777  pixel778  pixel779  pixel780  \\\n",
       "0     153  ...       207       207       207       207       206       206   \n",
       "1     158  ...        69       149       128        87        94       163   \n",
       "2     187  ...       202       201       200       199       198       199   \n",
       "3     210  ...       235       234       233       231       230       226   \n",
       "4     185  ...        92       105       105       108       133       163   \n",
       "\n",
       "   pixel781  pixel782  pixel783  pixel784  \n",
       "0       206       204       203       202  \n",
       "1       175       103       135       149  \n",
       "2       198       195       194       195  \n",
       "3       225       222       229       163  \n",
       "4       157       163       164       179  \n",
       "\n",
       "[5 rows x 785 columns]"
      ]
     },
     "execution_count": 3,
     "metadata": {},
     "output_type": "execute_result"
    }
   ],
   "source": [
    "sign_mnist_df.head()"
   ]
  },
  {
   "cell_type": "code",
   "execution_count": 4,
   "id": "d9590137",
   "metadata": {},
   "outputs": [
    {
     "data": {
      "text/plain": [
       "(27455, 785)"
      ]
     },
     "execution_count": 4,
     "metadata": {},
     "output_type": "execute_result"
    }
   ],
   "source": [
    "sign_mnist_df.shape"
   ]
  },
  {
   "cell_type": "code",
   "execution_count": 5,
   "id": "c99a5a2a",
   "metadata": {},
   "outputs": [
    {
     "data": {
      "text/plain": [
       "label       0\n",
       "pixel1      0\n",
       "pixel2      0\n",
       "pixel3      0\n",
       "pixel4      0\n",
       "           ..\n",
       "pixel780    0\n",
       "pixel781    0\n",
       "pixel782    0\n",
       "pixel783    0\n",
       "pixel784    0\n",
       "Length: 785, dtype: int64"
      ]
     },
     "execution_count": 5,
     "metadata": {},
     "output_type": "execute_result"
    }
   ],
   "source": [
    "sign_mnist_df = sign_mnist_df.dropna()\n",
    "sign_mnist_df[sign_mnist_df.isnull().any(axis=1)].count()"
   ]
  },
  {
   "cell_type": "code",
   "execution_count": 6,
   "id": "6aadc22e",
   "metadata": {},
   "outputs": [
    {
     "data": {
      "text/plain": [
       "(27455, 785)"
      ]
     },
     "execution_count": 6,
     "metadata": {},
     "output_type": "execute_result"
    }
   ],
   "source": [
    "sign_mnist_df.shape"
   ]
  },
  {
   "cell_type": "code",
   "execution_count": 7,
   "id": "e5c30bf2",
   "metadata": {},
   "outputs": [
    {
     "data": {
      "text/html": [
       "<div>\n",
       "<style scoped>\n",
       "    .dataframe tbody tr th:only-of-type {\n",
       "        vertical-align: middle;\n",
       "    }\n",
       "\n",
       "    .dataframe tbody tr th {\n",
       "        vertical-align: top;\n",
       "    }\n",
       "\n",
       "    .dataframe thead th {\n",
       "        text-align: right;\n",
       "    }\n",
       "</style>\n",
       "<table border=\"1\" class=\"dataframe\">\n",
       "  <thead>\n",
       "    <tr style=\"text-align: right;\">\n",
       "      <th></th>\n",
       "      <th>label</th>\n",
       "      <th>pixel1</th>\n",
       "      <th>pixel2</th>\n",
       "      <th>pixel3</th>\n",
       "      <th>pixel4</th>\n",
       "      <th>pixel5</th>\n",
       "      <th>pixel6</th>\n",
       "      <th>pixel7</th>\n",
       "      <th>pixel8</th>\n",
       "      <th>pixel9</th>\n",
       "      <th>...</th>\n",
       "      <th>pixel775</th>\n",
       "      <th>pixel776</th>\n",
       "      <th>pixel777</th>\n",
       "      <th>pixel778</th>\n",
       "      <th>pixel779</th>\n",
       "      <th>pixel780</th>\n",
       "      <th>pixel781</th>\n",
       "      <th>pixel782</th>\n",
       "      <th>pixel783</th>\n",
       "      <th>pixel784</th>\n",
       "    </tr>\n",
       "  </thead>\n",
       "  <tbody>\n",
       "    <tr>\n",
       "      <th>0</th>\n",
       "      <td>19</td>\n",
       "      <td>170</td>\n",
       "      <td>170</td>\n",
       "      <td>173</td>\n",
       "      <td>173</td>\n",
       "      <td>173</td>\n",
       "      <td>174</td>\n",
       "      <td>174</td>\n",
       "      <td>174</td>\n",
       "      <td>175</td>\n",
       "      <td>...</td>\n",
       "      <td>201</td>\n",
       "      <td>201</td>\n",
       "      <td>200</td>\n",
       "      <td>201</td>\n",
       "      <td>200</td>\n",
       "      <td>201</td>\n",
       "      <td>182</td>\n",
       "      <td>136</td>\n",
       "      <td>111</td>\n",
       "      <td>99</td>\n",
       "    </tr>\n",
       "    <tr>\n",
       "      <th>1</th>\n",
       "      <td>4</td>\n",
       "      <td>144</td>\n",
       "      <td>149</td>\n",
       "      <td>152</td>\n",
       "      <td>155</td>\n",
       "      <td>158</td>\n",
       "      <td>160</td>\n",
       "      <td>164</td>\n",
       "      <td>167</td>\n",
       "      <td>169</td>\n",
       "      <td>...</td>\n",
       "      <td>194</td>\n",
       "      <td>214</td>\n",
       "      <td>109</td>\n",
       "      <td>60</td>\n",
       "      <td>58</td>\n",
       "      <td>64</td>\n",
       "      <td>36</td>\n",
       "      <td>32</td>\n",
       "      <td>44</td>\n",
       "      <td>62</td>\n",
       "    </tr>\n",
       "    <tr>\n",
       "      <th>2</th>\n",
       "      <td>16</td>\n",
       "      <td>125</td>\n",
       "      <td>132</td>\n",
       "      <td>138</td>\n",
       "      <td>141</td>\n",
       "      <td>143</td>\n",
       "      <td>147</td>\n",
       "      <td>152</td>\n",
       "      <td>156</td>\n",
       "      <td>160</td>\n",
       "      <td>...</td>\n",
       "      <td>104</td>\n",
       "      <td>133</td>\n",
       "      <td>123</td>\n",
       "      <td>116</td>\n",
       "      <td>108</td>\n",
       "      <td>103</td>\n",
       "      <td>104</td>\n",
       "      <td>109</td>\n",
       "      <td>105</td>\n",
       "      <td>103</td>\n",
       "    </tr>\n",
       "    <tr>\n",
       "      <th>3</th>\n",
       "      <td>4</td>\n",
       "      <td>156</td>\n",
       "      <td>156</td>\n",
       "      <td>156</td>\n",
       "      <td>157</td>\n",
       "      <td>157</td>\n",
       "      <td>156</td>\n",
       "      <td>155</td>\n",
       "      <td>154</td>\n",
       "      <td>155</td>\n",
       "      <td>...</td>\n",
       "      <td>13</td>\n",
       "      <td>5</td>\n",
       "      <td>33</td>\n",
       "      <td>173</td>\n",
       "      <td>166</td>\n",
       "      <td>167</td>\n",
       "      <td>166</td>\n",
       "      <td>164</td>\n",
       "      <td>164</td>\n",
       "      <td>164</td>\n",
       "    </tr>\n",
       "    <tr>\n",
       "      <th>4</th>\n",
       "      <td>10</td>\n",
       "      <td>28</td>\n",
       "      <td>62</td>\n",
       "      <td>78</td>\n",
       "      <td>81</td>\n",
       "      <td>83</td>\n",
       "      <td>87</td>\n",
       "      <td>90</td>\n",
       "      <td>97</td>\n",
       "      <td>108</td>\n",
       "      <td>...</td>\n",
       "      <td>162</td>\n",
       "      <td>125</td>\n",
       "      <td>105</td>\n",
       "      <td>105</td>\n",
       "      <td>109</td>\n",
       "      <td>109</td>\n",
       "      <td>106</td>\n",
       "      <td>104</td>\n",
       "      <td>103</td>\n",
       "      <td>103</td>\n",
       "    </tr>\n",
       "  </tbody>\n",
       "</table>\n",
       "<p>5 rows × 785 columns</p>\n",
       "</div>"
      ],
      "text/plain": [
       "   label  pixel1  pixel2  pixel3  pixel4  pixel5  pixel6  pixel7  pixel8  \\\n",
       "0     19     170     170     173     173     173     174     174     174   \n",
       "1      4     144     149     152     155     158     160     164     167   \n",
       "2     16     125     132     138     141     143     147     152     156   \n",
       "3      4     156     156     156     157     157     156     155     154   \n",
       "4     10      28      62      78      81      83      87      90      97   \n",
       "\n",
       "   pixel9  ...  pixel775  pixel776  pixel777  pixel778  pixel779  pixel780  \\\n",
       "0     175  ...       201       201       200       201       200       201   \n",
       "1     169  ...       194       214       109        60        58        64   \n",
       "2     160  ...       104       133       123       116       108       103   \n",
       "3     155  ...        13         5        33       173       166       167   \n",
       "4     108  ...       162       125       105       105       109       109   \n",
       "\n",
       "   pixel781  pixel782  pixel783  pixel784  \n",
       "0       182       136       111        99  \n",
       "1        36        32        44        62  \n",
       "2       104       109       105       103  \n",
       "3       166       164       164       164  \n",
       "4       106       104       103       103  \n",
       "\n",
       "[5 rows x 785 columns]"
      ]
     },
     "execution_count": 7,
     "metadata": {},
     "output_type": "execute_result"
    }
   ],
   "source": [
    "sign_mnist_df=sign_mnist_df.sample(frac=0.3).reset_index(drop=True)\n",
    "sign_mnist_df.head()"
   ]
  },
  {
   "cell_type": "code",
   "execution_count": 8,
   "id": "9830d313",
   "metadata": {},
   "outputs": [
    {
     "data": {
      "text/plain": [
       "(8236, 785)"
      ]
     },
     "execution_count": 8,
     "metadata": {},
     "output_type": "execute_result"
    }
   ],
   "source": [
    "sign_mnist_df.shape"
   ]
  },
  {
   "cell_type": "code",
   "execution_count": 9,
   "id": "31556442",
   "metadata": {},
   "outputs": [],
   "source": [
    "LOOKUP = {0: 'A', \n",
    "          1: 'B', \n",
    "          2: 'C', \n",
    "          3: 'D', \n",
    "          4: 'E',\n",
    "          5: 'F', \n",
    "          6: 'G', \n",
    "          7: 'H', \n",
    "          8: 'I',\n",
    "          #no 9\n",
    "          10: 'K', \n",
    "          11: 'L', \n",
    "          12: 'M', \n",
    "          13: 'N', \n",
    "          14: 'O', \n",
    "          15: 'P', \n",
    "          16: 'Q', \n",
    "          17: 'R', \n",
    "          18: 'S', \n",
    "          19: 'T', \n",
    "          20: 'U', \n",
    "          21: 'V', \n",
    "          22: 'W', \n",
    "          23: 'X', \n",
    "          24: 'Y'}"
   ]
  },
  {
   "cell_type": "code",
   "execution_count": 10,
   "id": "d525435e",
   "metadata": {},
   "outputs": [],
   "source": [
    "def display_image(features, actual_label):\n",
    "    print(\"Actual label: \", LOOKUP[actual_label])\n",
    "    plt.imshow(features.reshape(28,28))"
   ]
  },
  {
   "cell_type": "code",
   "execution_count": 11,
   "id": "3d245069",
   "metadata": {},
   "outputs": [],
   "source": [
    "X=sign_mnist_df[sign_mnist_df.columns[1:]]\n",
    "Y=sign_mnist_df['label'] #<=> ce qu'on veut prédire"
   ]
  },
  {
   "cell_type": "code",
   "execution_count": 12,
   "id": "d5d8984a",
   "metadata": {},
   "outputs": [
    {
     "data": {
      "text/html": [
       "<div>\n",
       "<style scoped>\n",
       "    .dataframe tbody tr th:only-of-type {\n",
       "        vertical-align: middle;\n",
       "    }\n",
       "\n",
       "    .dataframe tbody tr th {\n",
       "        vertical-align: top;\n",
       "    }\n",
       "\n",
       "    .dataframe thead th {\n",
       "        text-align: right;\n",
       "    }\n",
       "</style>\n",
       "<table border=\"1\" class=\"dataframe\">\n",
       "  <thead>\n",
       "    <tr style=\"text-align: right;\">\n",
       "      <th></th>\n",
       "      <th>pixel1</th>\n",
       "      <th>pixel2</th>\n",
       "      <th>pixel3</th>\n",
       "      <th>pixel4</th>\n",
       "      <th>pixel5</th>\n",
       "      <th>pixel6</th>\n",
       "      <th>pixel7</th>\n",
       "      <th>pixel8</th>\n",
       "      <th>pixel9</th>\n",
       "      <th>pixel10</th>\n",
       "      <th>...</th>\n",
       "      <th>pixel775</th>\n",
       "      <th>pixel776</th>\n",
       "      <th>pixel777</th>\n",
       "      <th>pixel778</th>\n",
       "      <th>pixel779</th>\n",
       "      <th>pixel780</th>\n",
       "      <th>pixel781</th>\n",
       "      <th>pixel782</th>\n",
       "      <th>pixel783</th>\n",
       "      <th>pixel784</th>\n",
       "    </tr>\n",
       "  </thead>\n",
       "  <tbody>\n",
       "    <tr>\n",
       "      <th>0</th>\n",
       "      <td>170</td>\n",
       "      <td>170</td>\n",
       "      <td>173</td>\n",
       "      <td>173</td>\n",
       "      <td>173</td>\n",
       "      <td>174</td>\n",
       "      <td>174</td>\n",
       "      <td>174</td>\n",
       "      <td>175</td>\n",
       "      <td>175</td>\n",
       "      <td>...</td>\n",
       "      <td>201</td>\n",
       "      <td>201</td>\n",
       "      <td>200</td>\n",
       "      <td>201</td>\n",
       "      <td>200</td>\n",
       "      <td>201</td>\n",
       "      <td>182</td>\n",
       "      <td>136</td>\n",
       "      <td>111</td>\n",
       "      <td>99</td>\n",
       "    </tr>\n",
       "    <tr>\n",
       "      <th>1</th>\n",
       "      <td>144</td>\n",
       "      <td>149</td>\n",
       "      <td>152</td>\n",
       "      <td>155</td>\n",
       "      <td>158</td>\n",
       "      <td>160</td>\n",
       "      <td>164</td>\n",
       "      <td>167</td>\n",
       "      <td>169</td>\n",
       "      <td>173</td>\n",
       "      <td>...</td>\n",
       "      <td>194</td>\n",
       "      <td>214</td>\n",
       "      <td>109</td>\n",
       "      <td>60</td>\n",
       "      <td>58</td>\n",
       "      <td>64</td>\n",
       "      <td>36</td>\n",
       "      <td>32</td>\n",
       "      <td>44</td>\n",
       "      <td>62</td>\n",
       "    </tr>\n",
       "    <tr>\n",
       "      <th>2</th>\n",
       "      <td>125</td>\n",
       "      <td>132</td>\n",
       "      <td>138</td>\n",
       "      <td>141</td>\n",
       "      <td>143</td>\n",
       "      <td>147</td>\n",
       "      <td>152</td>\n",
       "      <td>156</td>\n",
       "      <td>160</td>\n",
       "      <td>163</td>\n",
       "      <td>...</td>\n",
       "      <td>104</td>\n",
       "      <td>133</td>\n",
       "      <td>123</td>\n",
       "      <td>116</td>\n",
       "      <td>108</td>\n",
       "      <td>103</td>\n",
       "      <td>104</td>\n",
       "      <td>109</td>\n",
       "      <td>105</td>\n",
       "      <td>103</td>\n",
       "    </tr>\n",
       "    <tr>\n",
       "      <th>3</th>\n",
       "      <td>156</td>\n",
       "      <td>156</td>\n",
       "      <td>156</td>\n",
       "      <td>157</td>\n",
       "      <td>157</td>\n",
       "      <td>156</td>\n",
       "      <td>155</td>\n",
       "      <td>154</td>\n",
       "      <td>155</td>\n",
       "      <td>154</td>\n",
       "      <td>...</td>\n",
       "      <td>13</td>\n",
       "      <td>5</td>\n",
       "      <td>33</td>\n",
       "      <td>173</td>\n",
       "      <td>166</td>\n",
       "      <td>167</td>\n",
       "      <td>166</td>\n",
       "      <td>164</td>\n",
       "      <td>164</td>\n",
       "      <td>164</td>\n",
       "    </tr>\n",
       "    <tr>\n",
       "      <th>4</th>\n",
       "      <td>28</td>\n",
       "      <td>62</td>\n",
       "      <td>78</td>\n",
       "      <td>81</td>\n",
       "      <td>83</td>\n",
       "      <td>87</td>\n",
       "      <td>90</td>\n",
       "      <td>97</td>\n",
       "      <td>108</td>\n",
       "      <td>119</td>\n",
       "      <td>...</td>\n",
       "      <td>162</td>\n",
       "      <td>125</td>\n",
       "      <td>105</td>\n",
       "      <td>105</td>\n",
       "      <td>109</td>\n",
       "      <td>109</td>\n",
       "      <td>106</td>\n",
       "      <td>104</td>\n",
       "      <td>103</td>\n",
       "      <td>103</td>\n",
       "    </tr>\n",
       "  </tbody>\n",
       "</table>\n",
       "<p>5 rows × 784 columns</p>\n",
       "</div>"
      ],
      "text/plain": [
       "   pixel1  pixel2  pixel3  pixel4  pixel5  pixel6  pixel7  pixel8  pixel9  \\\n",
       "0     170     170     173     173     173     174     174     174     175   \n",
       "1     144     149     152     155     158     160     164     167     169   \n",
       "2     125     132     138     141     143     147     152     156     160   \n",
       "3     156     156     156     157     157     156     155     154     155   \n",
       "4      28      62      78      81      83      87      90      97     108   \n",
       "\n",
       "   pixel10  ...  pixel775  pixel776  pixel777  pixel778  pixel779  pixel780  \\\n",
       "0      175  ...       201       201       200       201       200       201   \n",
       "1      173  ...       194       214       109        60        58        64   \n",
       "2      163  ...       104       133       123       116       108       103   \n",
       "3      154  ...        13         5        33       173       166       167   \n",
       "4      119  ...       162       125       105       105       109       109   \n",
       "\n",
       "   pixel781  pixel782  pixel783  pixel784  \n",
       "0       182       136       111        99  \n",
       "1        36        32        44        62  \n",
       "2       104       109       105       103  \n",
       "3       166       164       164       164  \n",
       "4       106       104       103       103  \n",
       "\n",
       "[5 rows x 784 columns]"
      ]
     },
     "execution_count": 12,
     "metadata": {},
     "output_type": "execute_result"
    }
   ],
   "source": [
    "X.head()"
   ]
  },
  {
   "cell_type": "code",
   "execution_count": 13,
   "id": "895a44f6",
   "metadata": {},
   "outputs": [
    {
     "data": {
      "text/plain": [
       "0    19\n",
       "1     4\n",
       "2    16\n",
       "3     4\n",
       "4    10\n",
       "Name: label, dtype: int64"
      ]
     },
     "execution_count": 13,
     "metadata": {},
     "output_type": "execute_result"
    }
   ],
   "source": [
    "Y.head()"
   ]
  },
  {
   "cell_type": "code",
   "execution_count": 14,
   "id": "ea4bed0a",
   "metadata": {},
   "outputs": [
    {
     "name": "stdout",
     "output_type": "stream",
     "text": [
      "Actual label:  T\n"
     ]
    },
    {
     "data": {
      "image/png": "[encoded data removed]",
      "text/plain": [
       "<Figure size 640x480 with 1 Axes>"
      ]
     },
     "metadata": {},
     "output_type": "display_data"
    }
   ],
   "source": [
    "display_image(X.loc[0].values, Y.loc[0])"
   ]
  },
  {
   "cell_type": "code",
   "execution_count": 15,
   "id": "9beaae80",
   "metadata": {
    "scrolled": true
   },
   "outputs": [
    {
     "name": "stdout",
     "output_type": "stream",
     "text": [
      "Actual label:  O\n"
     ]
    },
    {
     "data": {
      "image/png": "[encoded data removed]",
      "text/plain": [
       "<Figure size 640x480 with 1 Axes>"
      ]
     },
     "metadata": {},
     "output_type": "display_data"
    }
   ],
   "source": [
    "display_image(X.loc[156].values, Y.loc[156])"
   ]
  },
  {
   "cell_type": "code",
   "execution_count": 16,
   "id": "58bd9e8f",
   "metadata": {},
   "outputs": [
    {
     "data": {
      "text/html": [
       "<div>\n",
       "<style scoped>\n",
       "    .dataframe tbody tr th:only-of-type {\n",
       "        vertical-align: middle;\n",
       "    }\n",
       "\n",
       "    .dataframe tbody tr th {\n",
       "        vertical-align: top;\n",
       "    }\n",
       "\n",
       "    .dataframe thead th {\n",
       "        text-align: right;\n",
       "    }\n",
       "</style>\n",
       "<table border=\"1\" class=\"dataframe\">\n",
       "  <thead>\n",
       "    <tr style=\"text-align: right;\">\n",
       "      <th></th>\n",
       "      <th>pixel1</th>\n",
       "      <th>pixel2</th>\n",
       "      <th>pixel3</th>\n",
       "      <th>pixel4</th>\n",
       "      <th>pixel5</th>\n",
       "      <th>pixel6</th>\n",
       "      <th>pixel7</th>\n",
       "      <th>pixel8</th>\n",
       "      <th>pixel9</th>\n",
       "      <th>pixel10</th>\n",
       "      <th>...</th>\n",
       "      <th>pixel775</th>\n",
       "      <th>pixel776</th>\n",
       "      <th>pixel777</th>\n",
       "      <th>pixel778</th>\n",
       "      <th>pixel779</th>\n",
       "      <th>pixel780</th>\n",
       "      <th>pixel781</th>\n",
       "      <th>pixel782</th>\n",
       "      <th>pixel783</th>\n",
       "      <th>pixel784</th>\n",
       "    </tr>\n",
       "  </thead>\n",
       "  <tbody>\n",
       "    <tr>\n",
       "      <th>0</th>\n",
       "      <td>0.666667</td>\n",
       "      <td>0.666667</td>\n",
       "      <td>0.678431</td>\n",
       "      <td>0.678431</td>\n",
       "      <td>0.678431</td>\n",
       "      <td>0.682353</td>\n",
       "      <td>0.682353</td>\n",
       "      <td>0.682353</td>\n",
       "      <td>0.686275</td>\n",
       "      <td>0.686275</td>\n",
       "      <td>...</td>\n",
       "      <td>0.788235</td>\n",
       "      <td>0.788235</td>\n",
       "      <td>0.784314</td>\n",
       "      <td>0.788235</td>\n",
       "      <td>0.784314</td>\n",
       "      <td>0.788235</td>\n",
       "      <td>0.713725</td>\n",
       "      <td>0.533333</td>\n",
       "      <td>0.435294</td>\n",
       "      <td>0.388235</td>\n",
       "    </tr>\n",
       "    <tr>\n",
       "      <th>1</th>\n",
       "      <td>0.564706</td>\n",
       "      <td>0.584314</td>\n",
       "      <td>0.596078</td>\n",
       "      <td>0.607843</td>\n",
       "      <td>0.619608</td>\n",
       "      <td>0.627451</td>\n",
       "      <td>0.643137</td>\n",
       "      <td>0.654902</td>\n",
       "      <td>0.662745</td>\n",
       "      <td>0.678431</td>\n",
       "      <td>...</td>\n",
       "      <td>0.760784</td>\n",
       "      <td>0.839216</td>\n",
       "      <td>0.427451</td>\n",
       "      <td>0.235294</td>\n",
       "      <td>0.227451</td>\n",
       "      <td>0.250980</td>\n",
       "      <td>0.141176</td>\n",
       "      <td>0.125490</td>\n",
       "      <td>0.172549</td>\n",
       "      <td>0.243137</td>\n",
       "    </tr>\n",
       "    <tr>\n",
       "      <th>2</th>\n",
       "      <td>0.490196</td>\n",
       "      <td>0.517647</td>\n",
       "      <td>0.541176</td>\n",
       "      <td>0.552941</td>\n",
       "      <td>0.560784</td>\n",
       "      <td>0.576471</td>\n",
       "      <td>0.596078</td>\n",
       "      <td>0.611765</td>\n",
       "      <td>0.627451</td>\n",
       "      <td>0.639216</td>\n",
       "      <td>...</td>\n",
       "      <td>0.407843</td>\n",
       "      <td>0.521569</td>\n",
       "      <td>0.482353</td>\n",
       "      <td>0.454902</td>\n",
       "      <td>0.423529</td>\n",
       "      <td>0.403922</td>\n",
       "      <td>0.407843</td>\n",
       "      <td>0.427451</td>\n",
       "      <td>0.411765</td>\n",
       "      <td>0.403922</td>\n",
       "    </tr>\n",
       "    <tr>\n",
       "      <th>3</th>\n",
       "      <td>0.611765</td>\n",
       "      <td>0.611765</td>\n",
       "      <td>0.611765</td>\n",
       "      <td>0.615686</td>\n",
       "      <td>0.615686</td>\n",
       "      <td>0.611765</td>\n",
       "      <td>0.607843</td>\n",
       "      <td>0.603922</td>\n",
       "      <td>0.607843</td>\n",
       "      <td>0.603922</td>\n",
       "      <td>...</td>\n",
       "      <td>0.050980</td>\n",
       "      <td>0.019608</td>\n",
       "      <td>0.129412</td>\n",
       "      <td>0.678431</td>\n",
       "      <td>0.650980</td>\n",
       "      <td>0.654902</td>\n",
       "      <td>0.650980</td>\n",
       "      <td>0.643137</td>\n",
       "      <td>0.643137</td>\n",
       "      <td>0.643137</td>\n",
       "    </tr>\n",
       "    <tr>\n",
       "      <th>4</th>\n",
       "      <td>0.109804</td>\n",
       "      <td>0.243137</td>\n",
       "      <td>0.305882</td>\n",
       "      <td>0.317647</td>\n",
       "      <td>0.325490</td>\n",
       "      <td>0.341176</td>\n",
       "      <td>0.352941</td>\n",
       "      <td>0.380392</td>\n",
       "      <td>0.423529</td>\n",
       "      <td>0.466667</td>\n",
       "      <td>...</td>\n",
       "      <td>0.635294</td>\n",
       "      <td>0.490196</td>\n",
       "      <td>0.411765</td>\n",
       "      <td>0.411765</td>\n",
       "      <td>0.427451</td>\n",
       "      <td>0.427451</td>\n",
       "      <td>0.415686</td>\n",
       "      <td>0.407843</td>\n",
       "      <td>0.403922</td>\n",
       "      <td>0.403922</td>\n",
       "    </tr>\n",
       "  </tbody>\n",
       "</table>\n",
       "<p>5 rows × 784 columns</p>\n",
       "</div>"
      ],
      "text/plain": [
       "     pixel1    pixel2    pixel3    pixel4    pixel5    pixel6    pixel7  \\\n",
       "0  0.666667  0.666667  0.678431  0.678431  0.678431  0.682353  0.682353   \n",
       "1  0.564706  0.584314  0.596078  0.607843  0.619608  0.627451  0.643137   \n",
       "2  0.490196  0.517647  0.541176  0.552941  0.560784  0.576471  0.596078   \n",
       "3  0.611765  0.611765  0.611765  0.615686  0.615686  0.611765  0.607843   \n",
       "4  0.109804  0.243137  0.305882  0.317647  0.325490  0.341176  0.352941   \n",
       "\n",
       "     pixel8    pixel9   pixel10  ...  pixel775  pixel776  pixel777  pixel778  \\\n",
       "0  0.682353  0.686275  0.686275  ...  0.788235  0.788235  0.784314  0.788235   \n",
       "1  0.654902  0.662745  0.678431  ...  0.760784  0.839216  0.427451  0.235294   \n",
       "2  0.611765  0.627451  0.639216  ...  0.407843  0.521569  0.482353  0.454902   \n",
       "3  0.603922  0.607843  0.603922  ...  0.050980  0.019608  0.129412  0.678431   \n",
       "4  0.380392  0.423529  0.466667  ...  0.635294  0.490196  0.411765  0.411765   \n",
       "\n",
       "   pixel779  pixel780  pixel781  pixel782  pixel783  pixel784  \n",
       "0  0.784314  0.788235  0.713725  0.533333  0.435294  0.388235  \n",
       "1  0.227451  0.250980  0.141176  0.125490  0.172549  0.243137  \n",
       "2  0.423529  0.403922  0.407843  0.427451  0.411765  0.403922  \n",
       "3  0.650980  0.654902  0.650980  0.643137  0.643137  0.643137  \n",
       "4  0.427451  0.427451  0.415686  0.407843  0.403922  0.403922  \n",
       "\n",
       "[5 rows x 784 columns]"
      ]
     },
     "execution_count": 16,
     "metadata": {},
     "output_type": "execute_result"
    }
   ],
   "source": [
    "X=X/255 #range 0 to 1 (its common + speed..) = normalisation\n",
    "#Each parameter (red, green, and blue) defines the intensity of the color with a value between 0 and 255\n",
    "X.head()"
   ]
  },
  {
   "cell_type": "code",
   "execution_count": 17,
   "id": "2bdd1c63",
   "metadata": {},
   "outputs": [],
   "source": [
    "x_train, x_test, y_train, y_test=train_test_split(X, Y,test_size=0.2)"
   ]
  },
  {
   "cell_type": "code",
   "execution_count": 18,
   "id": "bf3d76f6",
   "metadata": {},
   "outputs": [
    {
     "data": {
      "text/plain": [
       "((6588, 784), (6588,))"
      ]
     },
     "execution_count": 18,
     "metadata": {},
     "output_type": "execute_result"
    }
   ],
   "source": [
    "x_train.shape, y_train.shape"
   ]
  },
  {
   "cell_type": "code",
   "execution_count": 19,
   "id": "536ff7fe",
   "metadata": {},
   "outputs": [
    {
     "data": {
      "text/plain": [
       "((1648, 784), (1648,))"
      ]
     },
     "execution_count": 19,
     "metadata": {},
     "output_type": "execute_result"
    }
   ],
   "source": [
    "x_test.shape, y_test.shape"
   ]
  },
  {
   "cell_type": "markdown",
   "id": "93ca5b15",
   "metadata": {},
   "source": [
    "# LogisticRegression"
   ]
  },
  {
   "cell_type": "code",
   "execution_count": 20,
   "id": "d2639da0",
   "metadata": {},
   "outputs": [],
   "source": [
    "logistic_model = LogisticRegression(solver='saga', multi_class='auto', max_iter=5000).fit(x_train, y_train)"
   ]
  },
  {
   "cell_type": "code",
   "execution_count": 21,
   "id": "0185f9d0",
   "metadata": {},
   "outputs": [],
   "source": [
    "y_pred = logistic_model.predict(x_test)"
   ]
  },
  {
   "cell_type": "code",
   "execution_count": 22,
   "id": "97f7c1e2",
   "metadata": {},
   "outputs": [
    {
     "name": "stdout",
     "output_type": "stream",
     "text": [
      "Accuracy:  0.9927184466019418\n",
      "Precision:  0.9928267461669346\n",
      "Recall:  0.9927184466019418\n"
     ]
    }
   ],
   "source": [
    "print(\"Accuracy: \",accuracy_score(y_test,y_pred,normalize=True))\n",
    "print(\"Precision: \",precision_score(y_test, y_pred, average='weighted'))\n",
    "print(\"Recall: \",recall_score(y_test, y_pred, average='weighted'))"
   ]
  },
  {
   "cell_type": "code",
   "execution_count": 23,
   "id": "48495e5d",
   "metadata": {},
   "outputs": [
    {
     "name": "stderr",
     "output_type": "stream",
     "text": [
      "C:\\Users\\User\\anaconda3\\Lib\\site-packages\\sklearn\\base.py:464: UserWarning: X does not have valid feature names, but LogisticRegression was fitted with feature names\n",
      "  warnings.warn(\n"
     ]
    },
    {
     "data": {
      "text/plain": [
       "array([18], dtype=int64)"
      ]
     },
     "execution_count": 23,
     "metadata": {},
     "output_type": "execute_result"
    }
   ],
   "source": [
    "logistic_model.predict([x_test.loc[4926]])"
   ]
  },
  {
   "cell_type": "code",
   "execution_count": 24,
   "id": "40a48319",
   "metadata": {},
   "outputs": [
    {
     "data": {
      "text/plain": [
       "'X'"
      ]
     },
     "execution_count": 24,
     "metadata": {},
     "output_type": "execute_result"
    }
   ],
   "source": [
    "LOOKUP[23]"
   ]
  },
  {
   "cell_type": "markdown",
   "id": "806f29fb",
   "metadata": {},
   "source": [
    "## Hyperparameter tuning using GridSearch"
   ]
  },
  {
   "cell_type": "code",
   "execution_count": 25,
   "id": "de204771",
   "metadata": {},
   "outputs": [
    {
     "data": {
      "text/plain": [
       "{'solver': 'sag'}"
      ]
     },
     "execution_count": 25,
     "metadata": {},
     "output_type": "execute_result"
    }
   ],
   "source": [
    "from sklearn.model_selection import GridSearchCV\n",
    "parameters = {'solver': ['saga','sag']}\n",
    "grid_search = GridSearchCV(LogisticRegression(multi_class='auto', max_iter=5000), parameters, cv=3, return_train_score=True).fit(x_train, y_train)\n",
    "grid_search.best_params_"
   ]
  },
  {
   "cell_type": "code",
   "execution_count": 26,
   "id": "cb426a87",
   "metadata": {},
   "outputs": [],
   "source": [
    "y_pred = grid_search.predict(x_test)"
   ]
  },
  {
   "cell_type": "code",
   "execution_count": 28,
   "id": "f4df4577",
   "metadata": {},
   "outputs": [
    {
     "name": "stdout",
     "output_type": "stream",
     "text": [
      "Accuracy:  0.9933252427184466\n",
      "Precision:  0.9934096962606155\n",
      "Recall:  0.9933252427184466\n"
     ]
    }
   ],
   "source": [
    "print(\"Accuracy: \",accuracy_score(y_test,y_pred,normalize=True))\n",
    "print(\"Precision: \",precision_score(y_test, y_pred, average='weighted'))\n",
    "print(\"Recall: \",recall_score(y_test, y_pred, average='weighted'))"
   ]
  },
  {
   "cell_type": "markdown",
   "id": "33c060c0",
   "metadata": {},
   "source": [
    "# NaiveBayes"
   ]
  },
  {
   "cell_type": "code",
   "execution_count": 29,
   "id": "a862789b",
   "metadata": {},
   "outputs": [],
   "source": [
    "from sklearn.naive_bayes import GaussianNB"
   ]
  },
  {
   "cell_type": "code",
   "execution_count": 30,
   "id": "4aa7680d",
   "metadata": {},
   "outputs": [],
   "source": [
    "nb_model = GaussianNB().fit(x_train, y_train)"
   ]
  },
  {
   "cell_type": "code",
   "execution_count": 31,
   "id": "d3eec972",
   "metadata": {},
   "outputs": [],
   "source": [
    "y_pred = nb_model.predict(x_test)"
   ]
  },
  {
   "cell_type": "code",
   "execution_count": 32,
   "id": "3c60eb2f",
   "metadata": {},
   "outputs": [
    {
     "name": "stdout",
     "output_type": "stream",
     "text": [
      "Accuracy:  0.4496359223300971\n",
      "Precision:  0.5048215307082462\n",
      "Recall:  0.4496359223300971\n"
     ]
    }
   ],
   "source": [
    "print(\"Accuracy: \",accuracy_score(y_test,y_pred,normalize=True))\n",
    "print(\"Precision: \",precision_score(y_test, y_pred, average='weighted'))\n",
    "print(\"Recall: \",recall_score(y_test, y_pred, average='weighted'))"
   ]
  },
  {
   "cell_type": "code",
   "execution_count": null,
   "id": "23391780",
   "metadata": {},
   "outputs": [],
   "source": []
  }
 ],
 "metadata": {
  "kernelspec": {
   "display_name": "Python 3 (ipykernel)",
   "language": "python",
   "name": "python3"
  },
  "language_info": {
   "codemirror_mode": {
    "name": "ipython",
    "version": 3
   },
   "file_extension": ".py",
   "mimetype": "text/x-python",
   "name": "python",
   "nbconvert_exporter": "python",
   "pygments_lexer": "ipython3",
   "version": "3.11.5"
  }
 },
 "nbformat": 4,
 "nbformat_minor": 5
}
